{
 "cells": [
  {
   "cell_type": "code",
   "execution_count": 6,
   "metadata": {},
   "outputs": [
    {
     "data": {
      "text/plain": [
       "'zsdzsdzsd'"
      ]
     },
     "execution_count": 6,
     "metadata": {},
     "output_type": "execute_result"
    }
   ],
   "source": [
    "## replace the occurance in the string\n",
    "\n",
    "def replaceChar(strn, a, b):\n",
    "    \n",
    "    '''Base case if the lenght of the string is 0 return string'''\n",
    "    \n",
    "    if len(strn) == 0:\n",
    "        return strn\n",
    "    \n",
    "    '''Calling the function and passing the remianign string except the first element'''\n",
    "    \n",
    "    smallOutput = replaceChar(strn[1:], a, b)\n",
    "    \n",
    "    '''if the 1st element of the  string is not a return b + smallOutput'''\n",
    "    \n",
    "    if strn[0] == a:\n",
    "        return b + smallOutput\n",
    "    \n",
    "    #or else return original string + smalloutput\n",
    "    \n",
    "    else:\n",
    "        return strn[0] + smallOutput\n",
    "    \n",
    "replaceChar('asdasdasd', 'a', 'z')"
   ]
  },
  {
   "cell_type": "code",
   "execution_count": null,
   "metadata": {},
   "outputs": [],
   "source": []
  }
 ],
 "metadata": {
  "kernelspec": {
   "display_name": "Python 3",
   "language": "python",
   "name": "python3"
  },
  "language_info": {
   "codemirror_mode": {
    "name": "ipython",
    "version": 3
   },
   "file_extension": ".py",
   "mimetype": "text/x-python",
   "name": "python",
   "nbconvert_exporter": "python",
   "pygments_lexer": "ipython3",
   "version": "3.7.3"
  }
 },
 "nbformat": 4,
 "nbformat_minor": 4
}
