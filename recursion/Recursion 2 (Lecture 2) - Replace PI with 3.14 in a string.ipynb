{
 "cells": [
  {
   "cell_type": "code",
   "execution_count": 1,
   "metadata": {},
   "outputs": [
    {
     "data": {
      "text/plain": [
       "'3.14akhil'"
      ]
     },
     "execution_count": 1,
     "metadata": {},
     "output_type": "execute_result"
    }
   ],
   "source": [
    "def replacePI(s):\n",
    "    \n",
    "    '''Check if the length if the string is 0 or 1 if yes return s'''\n",
    "    if len(s) == 1 or len(s) == 2:\n",
    "        return s\n",
    "    \n",
    "    '''Check if the 1st and the 2nd element of the string is p and i return 3.14'''\n",
    "    \n",
    "    if s[0] == 'p' and s[1] == 'i':\n",
    "        smallOutput = replacePI(s[2:])\n",
    "        return \"3.14\" + smallOutput\n",
    "    else:\n",
    "        smallOutput = replacePI(s[1:])\n",
    "        return s[0] + smallOutput\n",
    "    '''else return the original string'''\n",
    "    \n",
    "replacePI(\"piakhil\")"
   ]
  },
  {
   "cell_type": "code",
   "execution_count": null,
   "metadata": {},
   "outputs": [],
   "source": []
  }
 ],
 "metadata": {
  "kernelspec": {
   "display_name": "Python 3",
   "language": "python",
   "name": "python3"
  },
  "language_info": {
   "codemirror_mode": {
    "name": "ipython",
    "version": 3
   },
   "file_extension": ".py",
   "mimetype": "text/x-python",
   "name": "python",
   "nbconvert_exporter": "python",
   "pygments_lexer": "ipython3",
   "version": "3.7.3"
  }
 },
 "nbformat": 4,
 "nbformat_minor": 4
}
