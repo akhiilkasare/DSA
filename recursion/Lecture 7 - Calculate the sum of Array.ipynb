{
 "cells": [
  {
   "cell_type": "code",
   "execution_count": 1,
   "metadata": {},
   "outputs": [
    {
     "data": {
      "text/plain": [
       "239"
      ]
     },
     "execution_count": 1,
     "metadata": {},
     "output_type": "execute_result"
    }
   ],
   "source": [
    "def sumArray(arr):\n",
    "    \n",
    "    if len(arr) == 1:\n",
    "        return arr[0]\n",
    "    else:\n",
    "        return arr[0] + sumArray(arr[1:])\n",
    "sumArray([32,43,12,65,87])"
   ]
  },
  {
   "cell_type": "code",
   "execution_count": 2,
   "metadata": {},
   "outputs": [
    {
     "name": "stdout",
     "output_type": "stream",
     "text": [
      "3\n",
      "989\n",
      "989\n"
     ]
    }
   ],
   "source": [
    "def sumArray(arr):\n",
    "    n = len(arr)\n",
    "    if n == 1:\n",
    "        return arr[0]\n",
    "    smallOutput = sumArray(arr[:n-1])\n",
    "    return smallOutput + arr[n-1]\n",
    "\n",
    "from sys import setrecursionlimit\n",
    "setrecursionlimit(10000)\n",
    "n = int(input())\n",
    "arr = list(int(i) for i in input().strip().split(' '))\n",
    "print(sumArray(arr))"
   ]
  },
  {
   "cell_type": "code",
   "execution_count": 12,
   "metadata": {},
   "outputs": [
    {
     "name": "stdout",
     "output_type": "stream",
     "text": [
      "3\n",
      "345\n",
      "6\n",
      "false\n"
     ]
    }
   ],
   "source": [
    "def checknumber(arr, x):\n",
    "    size=len(arr)\n",
    "    if size==1:\n",
    "        return x==arr[0]\n",
    "    smallOutput = checknumber(arr[:size-1],x)\n",
    "    return smallOutput or (x==arr[size-1])\n",
    "\n",
    "from sys import setrecursionlimit\n",
    "setrecursionlimit(1100)\n",
    "\n",
    "n = int(input())\n",
    "arr = list(int(i) for i in input().strip().split(' '))\n",
    "x = int(input())\n",
    "if checknumber(arr,x):\n",
    "    print('true')\n",
    "else:\n",
    "    print('false')"
   ]
  },
  {
   "cell_type": "code",
   "execution_count": 13,
   "metadata": {},
   "outputs": [
    {
     "name": "stdout",
     "output_type": "stream",
     "text": [
      "3\n",
      "323\n",
      "2\n",
      "false\n"
     ]
    }
   ],
   "source": [
    "def checkNumber(arr, x):\n",
    "    # Please add your code here\n",
    "    size = len(arr)\n",
    "    \n",
    "    if size == 1:\n",
    "        return x==arr[0]\n",
    "    smallOutput = checkNumber(arr[:size-1], x)\n",
    "    return smallOutput or (x==arr[size-1])\n",
    "\n",
    "# Main\n",
    "from sys import setrecursionlimit\n",
    "setrecursionlimit(11000)\n",
    "n=int(input())\n",
    "arr=list(int(i) for i in input().strip().split(' '))\n",
    "x=int(input())\n",
    "if checkNumber(arr, x):\n",
    "    print('true')\n",
    "else:\n",
    "    print('false')\n"
   ]
  },
  {
   "cell_type": "code",
   "execution_count": null,
   "metadata": {},
   "outputs": [],
   "source": []
  }
 ],
 "metadata": {
  "kernelspec": {
   "display_name": "Python 3",
   "language": "python",
   "name": "python3"
  },
  "language_info": {
   "codemirror_mode": {
    "name": "ipython",
    "version": 3
   },
   "file_extension": ".py",
   "mimetype": "text/x-python",
   "name": "python",
   "nbconvert_exporter": "python",
   "pygments_lexer": "ipython3",
   "version": "3.7.3"
  }
 },
 "nbformat": 4,
 "nbformat_minor": 4
}
