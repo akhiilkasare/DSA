{
 "cells": [
  {
   "cell_type": "code",
   "execution_count": 3,
   "metadata": {},
   "outputs": [
    {
     "data": {
      "text/plain": [
       "3"
      ]
     },
     "execution_count": 3,
     "metadata": {},
     "output_type": "execute_result"
    }
   ],
   "source": [
    "## Print the fibonacci numbers \n",
    "\n",
    "'''If you want to print fibonacci numbers you need to have 2 base cases'''\n",
    "\n",
    "def fibo(n):\n",
    "    if n == 1 or n == 2:\n",
    "        return 1\n",
    "    else:\n",
    "        return fibo(n-1) + fibo(n-2)\n",
    "fibo(4)"
   ]
  },
  {
   "cell_type": "code",
   "execution_count": 6,
   "metadata": {},
   "outputs": [
    {
     "name": "stderr",
     "output_type": "stream",
     "text": [
      "22:19:17.03 >>> Call to fun in File \"<ipython-input-6-a7386a624d25>\", line 4\n",
      "22:19:17.03 ...... n = 2\n",
      "22:19:17.03    4 | def fun(n):\n",
      "22:19:17.03    5 |     if(n == 4):\n",
      "22:19:17.03    8 |         return 2*fun(n+1)\n",
      "    22:19:17.03 >>> Call to fun in File \"<ipython-input-6-a7386a624d25>\", line 4\n",
      "    22:19:17.03 ...... n = 3\n",
      "    22:19:17.03    4 | def fun(n):\n",
      "    22:19:17.03    5 |     if(n == 4):\n",
      "    22:19:17.03    8 |         return 2*fun(n+1)\n",
      "        22:19:17.03 >>> Call to fun in File \"<ipython-input-6-a7386a624d25>\", line 4\n",
      "        22:19:17.03 ...... n = 4\n",
      "        22:19:17.03    4 | def fun(n):\n",
      "        22:19:17.03    5 |     if(n == 4):\n",
      "        22:19:17.03    6 |         return n\n",
      "        22:19:17.04 <<< Return value from fun: 4\n",
      "    22:19:17.04    8 |         return 2*fun(n+1)\n",
      "    22:19:17.04 <<< Return value from fun: 8\n",
      "22:19:17.04    8 |         return 2*fun(n+1)\n",
      "22:19:17.05 <<< Return value from fun: 16\n"
     ]
    },
    {
     "name": "stdout",
     "output_type": "stream",
     "text": [
      "16\n"
     ]
    }
   ],
   "source": [
    "import snoop\n",
    "\n",
    "@snoop\n",
    "def fun(n):\n",
    "    if(n == 4):\n",
    "        return n\n",
    "    else:\n",
    "        return 2*fun(n+1)\n",
    "\n",
    "\n",
    "print(fun(2))"
   ]
  },
  {
   "cell_type": "code",
   "execution_count": null,
   "metadata": {},
   "outputs": [],
   "source": []
  }
 ],
 "metadata": {
  "kernelspec": {
   "display_name": "Python 3",
   "language": "python",
   "name": "python3"
  },
  "language_info": {
   "codemirror_mode": {
    "name": "ipython",
    "version": 3
   },
   "file_extension": ".py",
   "mimetype": "text/x-python",
   "name": "python",
   "nbconvert_exporter": "python",
   "pygments_lexer": "ipython3",
   "version": "3.7.3"
  }
 },
 "nbformat": 4,
 "nbformat_minor": 4
}
