{
 "cells": [
  {
   "cell_type": "code",
   "execution_count": 3,
   "metadata": {},
   "outputs": [
    {
     "name": "stdout",
     "output_type": "stream",
     "text": [
      "move 1st disk from a to c\n",
      "move 2 th disk from a to c\n",
      "move 1st disk from b to c\n",
      "move 3 th disk from a to c\n",
      "move 1st disk from b to c\n",
      "move 2 th disk from b to c\n",
      "move 1st disk from a to c\n",
      "move 4 th disk from a to c\n",
      "move 1st disk from b to c\n",
      "move 2 th disk from b to c\n",
      "move 1st disk from a to c\n",
      "move 3 th disk from b to c\n",
      "move 1st disk from a to c\n",
      "move 2 th disk from a to c\n",
      "move 1st disk from b to c\n"
     ]
    }
   ],
   "source": [
    "def tower_of_hanoi(n, a,b,c):\n",
    "    if n == 1:\n",
    "        print(\"move 1st disk from\",a,\"to\",c)\n",
    "        return\n",
    "    tower_of_hanoi(n-1,a,b,c)\n",
    "    print(\"move\",n,\"th disk from\",a,\"to\",c)\n",
    "    tower_of_hanoi(n-1,b,a,c)\n",
    "\n",
    "tower_of_hanoi(4, \"a\",\"b\",\"c\")"
   ]
  },
  {
   "cell_type": "code",
   "execution_count": null,
   "metadata": {},
   "outputs": [],
   "source": []
  }
 ],
 "metadata": {
  "kernelspec": {
   "display_name": "Python 3",
   "language": "python",
   "name": "python3"
  },
  "language_info": {
   "codemirror_mode": {
    "name": "ipython",
    "version": 3
   },
   "file_extension": ".py",
   "mimetype": "text/x-python",
   "name": "python",
   "nbconvert_exporter": "python",
   "pygments_lexer": "ipython3",
   "version": "3.7.3"
  }
 },
 "nbformat": 4,
 "nbformat_minor": 4
}
