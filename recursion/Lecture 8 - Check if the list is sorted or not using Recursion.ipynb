{
 "cells": [
  {
   "cell_type": "code",
   "execution_count": 9,
   "metadata": {},
   "outputs": [
    {
     "data": {
      "text/plain": [
       "False"
      ]
     },
     "execution_count": 9,
     "metadata": {},
     "output_type": "execute_result"
    }
   ],
   "source": [
    "def isSorted(arr, si):\n",
    "    l = len(arr)\n",
    "    \n",
    "    '''To check if the list has only one element or an empty list return True'''\n",
    "    \n",
    "    if si == l-1 or si == l:\n",
    "        return True\n",
    "    \n",
    "    '''Checking if the starting index of the list is greater than the second'''\n",
    "    \n",
    "    if arr[si] > arr[si+1]:\n",
    "        return False\n",
    "    \n",
    "    smalloutput = isSorted(arr, si+1)\n",
    "    return smalloutput\n",
    "\n",
    "arr = [1,2,3,90,4,5]\n",
    "isSorted(arr, 0)"
   ]
  },
  {
   "cell_type": "code",
   "execution_count": null,
   "metadata": {},
   "outputs": [],
   "source": []
  }
 ],
 "metadata": {
  "kernelspec": {
   "display_name": "Python 3",
   "language": "python",
   "name": "python3"
  },
  "language_info": {
   "codemirror_mode": {
    "name": "ipython",
    "version": 3
   },
   "file_extension": ".py",
   "mimetype": "text/x-python",
   "name": "python",
   "nbconvert_exporter": "python",
   "pygments_lexer": "ipython3",
   "version": "3.7.3"
  }
 },
 "nbformat": 4,
 "nbformat_minor": 4
}
