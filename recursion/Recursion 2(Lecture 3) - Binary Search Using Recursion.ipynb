{
 "cells": [
  {
   "cell_type": "code",
   "execution_count": 5,
   "metadata": {},
   "outputs": [
    {
     "data": {
      "text/plain": [
       "-1"
      ]
     },
     "execution_count": 5,
     "metadata": {},
     "output_type": "execute_result"
    }
   ],
   "source": [
    "def binarysearch(a,x,si,ei):\n",
    "    \n",
    "    '''If my starting index is greater than ending index return me -1'''\n",
    "    \n",
    "    if si > ei:\n",
    "        return -1\n",
    "    \n",
    "    '''Calculating the midpoint'''\n",
    "    \n",
    "    mid = (si+ei)//2\n",
    "    \n",
    "    '''if the element is present at the middle return me the index of the element'''\n",
    "    \n",
    "    if a[mid] == x:\n",
    "        return x\n",
    "\n",
    "    \n",
    "    elif a[mid] > x:\n",
    "        return binarysearch(a,x,si,mid-1)\n",
    "    else:\n",
    "        return binarysearch(a,x,mid+1,ei)\n",
    "    \n",
    "    \n",
    "    '''If the element is greater than the midpoint search on the left side array\n",
    "        or else on the right hand side'''\n",
    "    \n",
    "binarysearch([1,2,3,4,5],6,0,4)"
   ]
  },
  {
   "cell_type": "code",
   "execution_count": null,
   "metadata": {},
   "outputs": [],
   "source": []
  }
 ],
 "metadata": {
  "kernelspec": {
   "display_name": "Python 3",
   "language": "python",
   "name": "python3"
  },
  "language_info": {
   "codemirror_mode": {
    "name": "ipython",
    "version": 3
   },
   "file_extension": ".py",
   "mimetype": "text/x-python",
   "name": "python",
   "nbconvert_exporter": "python",
   "pygments_lexer": "ipython3",
   "version": "3.7.3"
  }
 },
 "nbformat": 4,
 "nbformat_minor": 4
}
