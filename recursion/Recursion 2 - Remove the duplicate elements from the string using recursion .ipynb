{
 "cells": [
  {
   "cell_type": "code",
   "execution_count": 2,
   "metadata": {},
   "outputs": [
    {
     "data": {
      "text/plain": [
       "'akhil'"
      ]
     },
     "execution_count": 2,
     "metadata": {},
     "output_type": "execute_result"
    }
   ],
   "source": [
    "def removeDup(s):\n",
    "    \n",
    "    '''Check if the lenght of the string  is less than 1 if yes then return string'''\n",
    "    if len(s) <= 1:\n",
    "        return s\n",
    "    \n",
    "    '''saving the rest of the elements inside the string except 1st'''\n",
    "    s2 = removeDup(s[1:])\n",
    "    \n",
    "    '''Check if the 1st element and 2nd element is equal is yes return s2\n",
    "    else return 1st element of the 1st string and s2'''\n",
    "    if s[0] == s[1]:\n",
    "        return s2\n",
    "    else:\n",
    "        return s[0] + s2\n",
    "\n",
    "removeDup('aakkhhiill')"
   ]
  },
  {
   "cell_type": "code",
   "execution_count": null,
   "metadata": {},
   "outputs": [],
   "source": []
  }
 ],
 "metadata": {
  "kernelspec": {
   "display_name": "Python 3",
   "language": "python",
   "name": "python3"
  },
  "language_info": {
   "codemirror_mode": {
    "name": "ipython",
    "version": 3
   },
   "file_extension": ".py",
   "mimetype": "text/x-python",
   "name": "python",
   "nbconvert_exporter": "python",
   "pygments_lexer": "ipython3",
   "version": "3.7.3"
  }
 },
 "nbformat": 4,
 "nbformat_minor": 4
}
