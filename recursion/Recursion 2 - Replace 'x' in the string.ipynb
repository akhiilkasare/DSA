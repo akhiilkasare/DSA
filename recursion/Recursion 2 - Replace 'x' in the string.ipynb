{
 "cells": [
  {
   "cell_type": "code",
   "execution_count": 1,
   "metadata": {},
   "outputs": [
    {
     "data": {
      "text/plain": [
       "'ab'"
      ]
     },
     "execution_count": 1,
     "metadata": {},
     "output_type": "execute_result"
    }
   ],
   "source": [
    "def removeX(string):\n",
    "    \n",
    "    '''Checking if the  lenght is 0 if yes then return string'''\n",
    "    if len(string) == 0:\n",
    "        return string\n",
    "    \n",
    "    '''Checking if the 1st element of the string is 'x' then call the function'''\n",
    "    if string[0] == 'x':\n",
    "        return removeX(string[1:])\n",
    "    \n",
    "    '''or else return me the same string'''\n",
    "    return string[0] + removeX(string[1:])\n",
    "\n",
    "removeX('axbx')"
   ]
  },
  {
   "cell_type": "code",
   "execution_count": null,
   "metadata": {},
   "outputs": [],
   "source": []
  }
 ],
 "metadata": {
  "kernelspec": {
   "display_name": "Python 3",
   "language": "python",
   "name": "python3"
  },
  "language_info": {
   "codemirror_mode": {
    "name": "ipython",
    "version": 3
   },
   "file_extension": ".py",
   "mimetype": "text/x-python",
   "name": "python",
   "nbconvert_exporter": "python",
   "pygments_lexer": "ipython3",
   "version": "3.7.3"
  }
 },
 "nbformat": 4,
 "nbformat_minor": 4
}
