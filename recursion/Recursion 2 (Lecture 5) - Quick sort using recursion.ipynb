{
 "cells": [
  {
   "cell_type": "code",
   "execution_count": 28,
   "metadata": {},
   "outputs": [
    {
     "name": "stdout",
     "output_type": "stream",
     "text": [
      "0 1 2 3 4 4 5 5 5 7 7 9 "
     ]
    }
   ],
   "source": [
    "def partition(arr, start, end):\n",
    "    i = (start-1) ## starting index\n",
    "    pivot = arr[end] ## selecting the pivot\n",
    "    \n",
    "    for j in range(start, end):\n",
    "        ## checking if the element of an array is less than pivot\n",
    "        if arr[j]<=pivot:\n",
    "            ## Increamenting i\n",
    "            i=i+1\n",
    "            ## Swaping the elements\n",
    "            arr[i], arr[j] = arr[j], arr[i]\n",
    "    arr[i+1], arr[end] = arr[end], arr[i+1]\n",
    "    return (i+1)\n",
    "        \n",
    "\n",
    "def quicksort(arr, start, end):\n",
    "    ## Base case\n",
    "    if len(arr) == 1:\n",
    "        return arr\n",
    "    \n",
    "    if start < end:\n",
    "        pi = partition(arr, start, end)\n",
    "        quicksort(arr, start, pi-1)\n",
    "        quicksort(arr,pi+1,end)\n",
    "\n",
    "arr = [5,7,3,4,5,9,7,4,1,2,0,5]\n",
    "n = len(arr)\n",
    "quicksort(arr, 0, n-1)\n",
    "for i in range(n):\n",
    "    print(arr[i], end=' ')"
   ]
  }
 ],
 "metadata": {
  "kernelspec": {
   "display_name": "Python 3",
   "language": "python",
   "name": "python3"
  },
  "language_info": {
   "codemirror_mode": {
    "name": "ipython",
    "version": 3
   },
   "file_extension": ".py",
   "mimetype": "text/x-python",
   "name": "python",
   "nbconvert_exporter": "python",
   "pygments_lexer": "ipython3",
   "version": "3.7.3"
  }
 },
 "nbformat": 4,
 "nbformat_minor": 4
}
