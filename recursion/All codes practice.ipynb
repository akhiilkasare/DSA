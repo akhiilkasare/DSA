{
 "cells": [
  {
   "cell_type": "code",
   "execution_count": null,
   "metadata": {},
   "outputs": [],
   "source": []
  },
  {
   "cell_type": "code",
   "execution_count": null,
   "metadata": {},
   "outputs": [],
   "source": []
  },
  {
   "cell_type": "code",
   "execution_count": null,
   "metadata": {},
   "outputs": [],
   "source": [
    "## calculate the sum of n natural numbers\n",
    "\n",
    "def sum_n(n):\n",
    "    if n == 0:\n",
    "        return 0\n",
    "    else:\n",
    "        return n + sum_n(n-1)\n",
    "sum_n(5)"
   ]
  },
  {
   "cell_type": "code",
   "execution_count": null,
   "metadata": {},
   "outputs": [],
   "source": [
    "## calculate the power of the numbers both the approaches\n",
    "\n",
    "## Approach 1\n",
    "def power1(n,p):\n",
    "    if p == 0:\n",
    "        return 0\n",
    "    elif p == 1:\n",
    "        return n\n",
    "    else:\n",
    "        return (n * power1(n,p-1))\n",
    "    \n",
    "n=3\n",
    "p=2\n",
    "power1(n,p)\n",
    "\n",
    "\n",
    "## Approach 2\n",
    "\n",
    "li = input().split()\n",
    "x = int(li[0])\n",
    "n = int(li[1])\n",
    "\n",
    "ans = 1\n",
    "\n",
    "while n > 0:\n",
    "    ans *= x\n",
    "    n -= 1\n",
    "\n",
    "print(ans)"
   ]
  },
  {
   "cell_type": "code",
   "execution_count": null,
   "metadata": {},
   "outputs": [],
   "source": [
    "## Calculate the numbers from 1 to n and n to 1\n",
    "\n",
    "def print_1_to_n(n):\n",
    "    if n == 0:\n",
    "        return\n",
    "    print_1_to_n(n-1)\n",
    "    print(n)\n",
    "print_1_to_n(5)\n",
    "\n",
    "print(\"-\"*10)\n",
    "\n",
    "def print_n_to_1(n):\n",
    "    if n == 0:\n",
    "        return\n",
    "    print(n)\n",
    "    print_n_to_1(n-1)\n",
    "print_n_to_1(5)"
   ]
  },
  {
   "cell_type": "code",
   "execution_count": null,
   "metadata": {},
   "outputs": [],
   "source": [
    "## Print the fibonacci numbers\n",
    "\n",
    "'''Inside fibonacci series you will always have 2 base cases'''\n",
    "\n",
    "import sys\n",
    "\n",
    "sys.setrecursionlimit(3000)\n",
    "\n",
    "def fibo(n):\n",
    "    if n == 1 or n == 2:\n",
    "        return 1\n",
    "    else:\n",
    "        return fibo(n-1) + fibo(n-2)\n",
    "fibo(10)"
   ]
  },
  {
   "cell_type": "code",
   "execution_count": null,
   "metadata": {},
   "outputs": [],
   "source": [
    "## Calculate the sum of array\n",
    "\n",
    "def sumArray(arr):\n",
    "    if len(arr) == 1:\n",
    "        return arr[0]\n",
    "    else:\n",
    "        return arr[0] + sumArray(arr[1:])\n",
    "sumArray([12,32,56,76])"
   ]
  },
  {
   "cell_type": "code",
   "execution_count": null,
   "metadata": {},
   "outputs": [],
   "source": [
    "arr = [32,45,67,32,12]\n",
    "print(arr[:n-1])\n",
    "print(arr[:n])"
   ]
  },
  {
   "cell_type": "code",
   "execution_count": null,
   "metadata": {},
   "outputs": [],
   "source": [
    "arr[n-1]"
   ]
  },
  {
   "cell_type": "code",
   "execution_count": null,
   "metadata": {},
   "outputs": [],
   "source": [
    "arr[1:]"
   ]
  },
  {
   "cell_type": "code",
   "execution_count": null,
   "metadata": {},
   "outputs": [],
   "source": [
    "def sumArray(arr):\n",
    "    n = len(arr)\n",
    "    if n == 1:\n",
    "        return arr[0]\n",
    "    else:\n",
    "        return sumArray(arr[:n-1]) + arr[n-1]\n",
    "    \n",
    "from sys import setrecursionlimit\n",
    "setrecursionlimit(11000)\n",
    "n=int(input())\n",
    "arr=list(int(i) for i in input().strip().split(' '))\n",
    "print(arr)\n",
    "print(sumArray(arr))"
   ]
  },
  {
   "cell_type": "code",
   "execution_count": null,
   "metadata": {},
   "outputs": [],
   "source": [
    "### Calculate the sum of an array \n",
    "\n",
    "# Approach 1\n",
    "\n",
    "def arraySum(arr):\n",
    "    if len(arr) == 1:\n",
    "        return arr[0]\n",
    "    else:\n",
    "        return arr[0] + arraySum(arr[1:])\n",
    "arr = [2,4,5,3]\n",
    "print(arraySum(arr))\n",
    "\n",
    "# Approach 2\n",
    "\n",
    "def SumArray(arr):\n",
    "    n = len(arr)\n",
    "    if n == 1:\n",
    "        return arr[0]\n",
    "    smallOutput = SumArray(arr[:n-1])\n",
    "    return smallOutput + arr[n-1]\n",
    "\n",
    "n = int(input())\n",
    "arr = list(int(i) for i in input().strip().split(' '))\n",
    "print(SumArray(arr))"
   ]
  },
  {
   "cell_type": "code",
   "execution_count": null,
   "metadata": {},
   "outputs": [],
   "source": [
    "## Check the number inside an array using recursion\n",
    "\n",
    "def CheckNumber(arr, x):\n",
    "    size = len(arr)\n",
    "    if size == 1:\n",
    "        return x==arr[0]\n",
    "    smallOutput = CheckNumber(arr[:size-1], x)\n",
    "    return smallOutput or arr[size-1]\n",
    "\n",
    "CheckNumber([1,2,3,4], 4)"
   ]
  },
  {
   "cell_type": "code",
   "execution_count": null,
   "metadata": {},
   "outputs": [],
   "source": [
    "n = int(input())\n",
    "arr = list(int(i) for i in input().strip().split(' '))\n",
    "x = int(input())\n",
    "print(CheckNumber(arr, x))\n",
    "\n",
    "if CheckNumber(arr,x):\n",
    "    print('True')\n",
    "else:\n",
    "    print('Flase')"
   ]
  },
  {
   "cell_type": "code",
   "execution_count": null,
   "metadata": {},
   "outputs": [],
   "source": [
    "d## Check whether the list is sorted or not\n",
    "\n",
    "def isSorted(arr, si):\n",
    "    l = len(arr)\n",
    "    \n",
    "    '''checking if the list has only one element and empty list'''\n",
    "    \n",
    "    if si == l - 1 or si == l:\n",
    "        return True\n",
    "    \n",
    "    '''checking if the starting index is greater than the second element'''\n",
    "    \n",
    "    if arr[si] > arr[si + 1]:\n",
    "        return False\n",
    "    \n",
    "    '''passing array and second element of the list to the function'''\n",
    "    \n",
    "    smalloutput = isSorted(arr, si + 1)\n",
    "    return smalloutput\n",
    "    \n",
    "\n",
    "arr = [2,4,7,2,1,55]\n",
    "arr2 = [1,2,3,4,5]\n",
    "isSorted(arr2, 0)"
   ]
  },
  {
   "cell_type": "code",
   "execution_count": null,
   "metadata": {},
   "outputs": [],
   "source": [
    "print(arr[1:])"
   ]
  },
  {
   "cell_type": "code",
   "execution_count": null,
   "metadata": {},
   "outputs": [],
   "source": [
    "### Find the index of a number \n",
    "# %%time\n",
    "\n",
    "def firstIndex(arr, x):\n",
    "    \n",
    "    '''if the length of the array is 0 return me -1'''\n",
    "    \n",
    "    if len(arr) == 0:\n",
    "        return -1\n",
    "    \n",
    "    '''If the xth element is present at the starting index return me 0'''\n",
    "    \n",
    "    if arr[0] == x:\n",
    "        return 0\n",
    "    \n",
    "    '''Passing the remaining list except the 1st element to the function'''\n",
    "    \n",
    "    smalloutput = firstIndex(arr[1:], x)\n",
    "    \n",
    "    '''if the smalloutput is -1  return me -1 else return me smalloutput+1'''\n",
    "    \n",
    "    if smalloutput == -1:\n",
    "        return -1\n",
    "    else:\n",
    "        return smalloutput+1\n",
    "    \n",
    "firstIndex([1,2,3,4,5],5)\n",
    "    "
   ]
  },
  {
   "cell_type": "code",
   "execution_count": null,
   "metadata": {},
   "outputs": [],
   "source": [
    "### Find the last index of the element\n",
    "\n",
    "def lastIndex(a, x, si):\n",
    "    \n",
    "    l = len(a)\n",
    "    \n",
    "    if si == l:\n",
    "        return -1\n",
    "    \n",
    "    smallOutput = lastIndex(a, x, si+1)\n",
    "    \n",
    "    if smallOutput != -1:\n",
    "        return smallOutput\n",
    "    else:\n",
    "        if a[si] == x:\n",
    "            return si\n",
    "        else:\n",
    "            return -1\n",
    "        \n",
    "lastIndex([23,6,3,56,7,3,2,6,6,8],6,0)\n",
    "        \n",
    "        "
   ]
  },
  {
   "cell_type": "code",
   "execution_count": null,
   "metadata": {},
   "outputs": [],
   "source": [
    "### Find the number persent inside an array\n",
    "\n",
    "def checkNumber(arr, x):\n",
    "    \n",
    "    size = len(arr)\n",
    "    if size == 1:\n",
    "        return x == arr[0]\n",
    "    smallOutput = checkNumber(arr[:size-1], x)\n",
    "    return smallOutput or (x == arr[size-1])\n",
    "\n",
    "from sys import setrecursionlimit\n",
    "setrecursionlimit(11000)\n",
    "\n",
    "n = int(input())\n",
    "arr = list(int(i) for i in input().strip().split(' '))\n",
    "x = int(input())\n",
    "\n",
    "if checkNumber(arr,x):\n",
    "    print('true')\n",
    "else:\n",
    "    print('false')\n",
    "\n",
    "# checkNumber([123123], 3)"
   ]
  },
  {
   "cell_type": "code",
   "execution_count": null,
   "metadata": {},
   "outputs": [],
   "source": [
    "def checknum(arr, x):\n",
    "    for i in range(len(arr)):\n",
    "        if i ==x:\n",
    "            return x\n",
    "        \n",
    "print(checknum([1,2,3],3))"
   ]
  },
  {
   "cell_type": "code",
   "execution_count": null,
   "metadata": {},
   "outputs": [],
   "source": [
    "def print_1_to_n(n):\n",
    "    \n",
    "    if n==0:\n",
    "        return 0\n",
    "    print_1_to_n(n-1)\n",
    "    print(n)\n",
    "    \n",
    "print_1_to_n(5)"
   ]
  },
  {
   "cell_type": "code",
   "execution_count": null,
   "metadata": {},
   "outputs": [],
   "source": [
    "## Replace the occurance in the string\n",
    "\n",
    "def replaceocc(strn, a, b):\n",
    "    \n",
    "    '''IF the lenght of the string is 0 return the same string'''\n",
    "    \n",
    "    l = len(strn)\n",
    "    if l == 0:\n",
    "        return strn\n",
    "    \n",
    "    '''calling the function and passing the complete string except the first element'''\n",
    "    \n",
    "    smallOutput = replaceocc(strn[1:],a, b)\n",
    "    \n",
    "    ''' if the first element is a return b + smallOutput else return 1st element of \n",
    "    the string + smallOutput '''\n",
    "    \n",
    "    if strn[0] == a:\n",
    "        return b + smallOutput\n",
    "    else:\n",
    "        return strn[0] + smallOutput\n",
    "    \n",
    "replaceocc('erfersedcvfesd', 'e','z')"
   ]
  },
  {
   "cell_type": "code",
   "execution_count": null,
   "metadata": {},
   "outputs": [],
   "source": [
    "## Remove 'x' from the string\n",
    "\n",
    "def removeX(string):\n",
    "    \n",
    "    '''Check if the lenght of the string is 0 if 0 return the same string'''\n",
    "    \n",
    "    if len(string) == 0:\n",
    "        return string\n",
    "    \n",
    "    '''check if the 1st element of the string is x if its x call the function with\n",
    "    the string 1st letter'''\n",
    "    \n",
    "    if string[0] == 'x':\n",
    "        return removeX(string[1:])\n",
    "    \n",
    "    '''else return me the original string|'''\n",
    "    \n",
    "    return string[0] + removeX(string[1:])\n",
    "\n",
    "removeX('axbx')"
   ]
  },
  {
   "cell_type": "code",
   "execution_count": 6,
   "metadata": {},
   "outputs": [
    {
     "data": {
      "text/plain": [
       "'3.14akhil'"
      ]
     },
     "execution_count": 6,
     "metadata": {},
     "output_type": "execute_result"
    }
   ],
   "source": [
    "### Replace PI with 3.14 inside a strijng\n",
    "\n",
    "def replacePI(s):\n",
    "    \n",
    "    '''Checking if the lenght of the string is 1 or 0 if yes return string'''\n",
    "    \n",
    "    if len(s) == 1 or len(s) == 2:\n",
    "        return s\n",
    "    \n",
    "    '''Check of the first element is p and second element is i if yes return 3.14'''\n",
    "    \n",
    "    if s[0] == 'p' and s[1] == 'i':\n",
    "        smallOutput = replacePI(s[2:])\n",
    "        return \"3.14\" + smallOutput\n",
    "    \n",
    "    else:\n",
    "        smallOutput = replacePI(s[1:])\n",
    "        return s[0] + smallOutput\n",
    "    \n",
    "replacePI('piakhil')"
   ]
  },
  {
   "cell_type": "code",
   "execution_count": 8,
   "metadata": {},
   "outputs": [
    {
     "data": {
      "text/plain": [
       "'akhil'"
      ]
     },
     "execution_count": 8,
     "metadata": {},
     "output_type": "execute_result"
    }
   ],
   "source": [
    "### Remove the duplicate elements of the string \n",
    "\n",
    "def removeDup(s):\n",
    "    \n",
    "    '''Check if the lenght of the string  is less than 1 if yes then return string'''\n",
    "    if len(s) <= 1:\n",
    "        return s\n",
    "    \n",
    "    '''saving the rest of the elements inside the string except 1st'''\n",
    "    s2 = removeDup(s[1:])\n",
    "    \n",
    "    '''Check if the 1st element and 2nd element is equal is yes return s2\n",
    "    else return 1st element of the 1st string and s2'''\n",
    "    if s[0] == s[1]:\n",
    "        return s2\n",
    "    else:\n",
    "        return s[0] + s2\n",
    "\n",
    "removeDup('aakkhhiill')"
   ]
  },
  {
   "cell_type": "code",
   "execution_count": 5,
   "metadata": {},
   "outputs": [
    {
     "data": {
      "text/plain": [
       "'The element is not present insdie the array'"
      ]
     },
     "execution_count": 5,
     "metadata": {},
     "output_type": "execute_result"
    }
   ],
   "source": [
    "### Binary search using recursion \n",
    "\n",
    "def binarysearch(a,x,si,ei):\n",
    "    \n",
    "    if si > ei:\n",
    "        return \"The element is not present insdie the array\"\n",
    "    \n",
    "    '''Calculating the midpoint'''\n",
    "    mid = (si+ei)//2\n",
    "    \n",
    "    '''if my element is present inside the array return me the index'''\n",
    "    \n",
    "    if a[mid] == x:\n",
    "        return mid\n",
    "    \n",
    "    elif a[mid] > x:\n",
    "        return binarysearch(a,x,si,mid-1) ## left side of the array\n",
    "    else:\n",
    "        return binarysearch(a,x,mid+1,ei) ## right side of the array\n",
    "    \n",
    "    '''if my midpoint is greater than x check on the left side of the array \n",
    "    else check on the right side of the array'''\n",
    "    \n",
    "binarysearch([1,2,3,4,5],6,0,4)"
   ]
  },
  {
   "cell_type": "code",
   "execution_count": 4,
   "metadata": {},
   "outputs": [
    {
     "name": "stdout",
     "output_type": "stream",
     "text": [
      "0 2 2 3 3 4 5 5 6 7 8 "
     ]
    }
   ],
   "source": [
    "### Quick Sort using Recursion (its better than merge sort because in merge sort you have to create copies)\n",
    "\n",
    "def partition(arr, start, end):\n",
    "    i = start-1 # start index of an element\n",
    "    pivot = arr[end] # selecting the pivot \n",
    "    \n",
    "    for j in range(start, end):\n",
    "        ## checking if the element of the array is less than the pivot\n",
    "        if arr[j] <= pivot:\n",
    "            ## if its less than the pivot point increment i\n",
    "            i=i+1\n",
    "            ## swaping the elements\n",
    "            arr[i], arr[j] = arr[j], arr[i]\n",
    "    arr[i+1], arr[end] = arr[end], arr[i+1]\n",
    "    return (i+1)\n",
    "\n",
    "def quicksort(arr, start, end):\n",
    "    ## Base case\n",
    "    if len(arr) == 1:\n",
    "        return arr\n",
    "    \n",
    "    if start < end:\n",
    "        ## Creating a partition\n",
    "        pi = partition(arr, start, end)\n",
    "        quicksort(arr, start, pi-1)\n",
    "        quicksort(arr, pi+1, end)\n",
    "        \n",
    "arr = [3,4,5,2,2,5,7,3,6,8,0]\n",
    "n = len(arr)\n",
    "quicksort(arr, 0, n-1)\n",
    "for i in range(n):\n",
    "    print(arr[i], end=' ')"
   ]
  },
  {
   "cell_type": "code",
   "execution_count": 4,
   "metadata": {},
   "outputs": [],
   "source": [
    "# ### Merge sort using recursion\n",
    "\n",
    "# def merge(a1,a2,a):\n",
    "#     i=0\n",
    "#     j=0\n",
    "#     k=0\n",
    "    \n",
    "#     while i < len(a1) and j < len(a2):\n",
    "#         if a1[i] < a2[j]:\n",
    "#             a[k] = a1[i]\n",
    "#             k = k+1\n",
    "#             i = i+1\n",
    "#         else:\n",
    "#             a[k] = a2[j]\n",
    "#             k = k+1\n",
    "#             j = j+1\n",
    "            \n",
    "#     while i < len(a1):\n",
    "#         a[k] = a1[i]\n",
    "#         k = k+1\n",
    "#         i = i+1\n",
    "    \n",
    "#     while j < len(a2):\n",
    "#         a[k] = a2[j]\n",
    "#         k = k+1\n",
    "#         j = j+1\n",
    "        \n",
    "# def merge_sort(a):\n",
    "    \n",
    "#     if len(a) == 0 or len(a) == 1:\n",
    "#         return\n",
    "    \n",
    "#     mid = len(a)//2\n",
    "    \n",
    "#     a1 = a[0:mid]\n",
    "#     a2 = a[mid:]\n",
    "    \n",
    "#     merge_sort(a1)\n",
    "#     merge_sort(a2)\n",
    "    \n",
    "#     merge(a1,a2,a)\n",
    "    \n",
    "# a = [3,6,2,5,8,4,2,6,8,9]\n",
    "# merge_sort(a)\n",
    "# a"
   ]
  },
  {
   "cell_type": "code",
   "execution_count": 1,
   "metadata": {},
   "outputs": [
    {
     "name": "stdout",
     "output_type": "stream",
     "text": [
      "None\n"
     ]
    },
    {
     "data": {
      "text/plain": [
       "[3, 6, 2, 5, 8, 4, 2, 6, 8, 9]"
      ]
     },
     "execution_count": 1,
     "metadata": {},
     "output_type": "execute_result"
    }
   ],
   "source": [
    "def merge1(a1,a2,a):\n",
    "    i=0\n",
    "    j=0\n",
    "    k=0\n",
    "    \n",
    "    ## Checking if the i is less than len(a1), j is less than len(a2)\n",
    "    while i < len(a1) and j < len(a2):\n",
    "        if a1[i] < a2[j]:\n",
    "            a[k] = a1[i]\n",
    "            k=k+1\n",
    "            i=i+1\n",
    "        else:\n",
    "            a[k] = a2[j]\n",
    "            k=k+1\n",
    "            j=j+1\n",
    "                \n",
    "    while i < len(a1):\n",
    "        a[k] = a1[i]\n",
    "        k=k+1\n",
    "        i=i+1\n",
    "        \n",
    "    while j < len(a2):\n",
    "        a[k] = a2[j]\n",
    "        k=k+1\n",
    "        j=j+1\n",
    "    \n",
    "def merge_sort1(a):\n",
    "    if len(a)==0 and len(a)==1:\n",
    "        return \n",
    "    \n",
    "    ## taking the midpoint\n",
    "    mid = len(a)//2\n",
    "    \n",
    "    ## storing the list of elements in two list\n",
    "    a1 = a[0:mid]\n",
    "    a2 = a[mid:0]\n",
    "    \n",
    "    merge1(a1,a2,a)\n",
    "    \n",
    "a = [3,6,2,5,8,4,2,6,8,9]\n",
    "print(merge_sort1(a))\n",
    "a"
   ]
  },
  {
   "cell_type": "code",
   "execution_count": 1,
   "metadata": {},
   "outputs": [
    {
     "data": {
      "text/plain": [
       "1.9375"
      ]
     },
     "execution_count": 1,
     "metadata": {},
     "output_type": "execute_result"
    }
   ],
   "source": [
    "## Calculate the geometric sum\n",
    "\n",
    "def geosum(n):\n",
    "    if n == 0:\n",
    "        return 1\n",
    "    else:\n",
    "        return 1 / pow(2,n) + geosum(n-1)\n",
    "geosum(4)"
   ]
  },
  {
   "cell_type": "code",
   "execution_count": 4,
   "metadata": {},
   "outputs": [
    {
     "name": "stdout",
     "output_type": "stream",
     "text": [
      "ninja\n",
      "false\n"
     ]
    }
   ],
   "source": [
    "## Check whether the string is Palindrome\n",
    "\n",
    "def isPalRec(st, s, e):\n",
    "    \n",
    "    if s == e:\n",
    "        return True\n",
    "    \n",
    "    if st[s] != st[e]:\n",
    "        return False\n",
    "    \n",
    "    if (s < e+1):\n",
    "        return isPalRec(st, s+1, e-1)\n",
    "    return True\n",
    "\n",
    "def isPalindrome(st):\n",
    "    n = len(st)\n",
    "    \n",
    "    if n == 0:\n",
    "        return True\n",
    "    return isPalRec(st, 0, n-1)\n",
    "\n",
    "st = input()\n",
    "if isPalindrome(st):\n",
    "    print('true')\n",
    "else:\n",
    "    print('false')"
   ]
  },
  {
   "cell_type": "code",
   "execution_count": 6,
   "metadata": {},
   "outputs": [
    {
     "name": "stdout",
     "output_type": "stream",
     "text": [
      "1234\n",
      "10\n"
     ]
    }
   ],
   "source": [
    "## Check the sum of digit's\n",
    "## Input : 12345\n",
    "## Output : 15\n",
    "\n",
    "def sumOfDigits(n):\n",
    "    \n",
    "    if n == 0:\n",
    "        return 0\n",
    "    smallOutput = sumOfDigits(n // 10)\n",
    "    return smallOutput + n%10\n",
    "\n",
    "from sys import setrecursionlimit\n",
    "setrecursionlimit(10000)\n",
    "\n",
    "n = int(input())\n",
    "print(sumOfDigits(n))"
   ]
  },
  {
   "cell_type": "code",
   "execution_count": 2,
   "metadata": {},
   "outputs": [
    {
     "name": "stdout",
     "output_type": "stream",
     "text": [
      "true\n"
     ]
    }
   ],
   "source": [
    "### Check whether the string is palindrome or not\n",
    "def isPalRec(st, s, e):\n",
    "    \n",
    "    if s == e:\n",
    "        return True\n",
    "    if st[s] != st[e]:\n",
    "        return False\n",
    "    if (s < e+1):\n",
    "        return isPalRec(st, s+1, e-1)\n",
    "    return True\n",
    "\n",
    "\n",
    "def isPalindrome(st):\n",
    "    n = len(st)\n",
    "    if n == 0:\n",
    "        return True\n",
    "    \n",
    "    return isPalRec(st, 0, n-1)\n",
    "\n",
    "st = \"racecar\"\n",
    "if isPalindrome(st):\n",
    "    print(\"true\")\n",
    "else:\n",
    "    print(\"false\")"
   ]
  },
  {
   "cell_type": "code",
   "execution_count": 6,
   "metadata": {},
   "outputs": [
    {
     "name": "stdout",
     "output_type": "stream",
     "text": [
      "3\n",
      "4\n",
      "12\n"
     ]
    }
   ],
   "source": [
    "## Multiplication of a number\n",
    "\n",
    "def multiplyNumbers(m,n):\n",
    "    \n",
    "    if m == 0 or n == 0:\n",
    "        return 0\n",
    "    \n",
    "    if n > 0:\n",
    "        smallOutput = multiplyNumbers(m, n-1)\n",
    "        return smallOutput + m\n",
    "    else:\n",
    "        smallOutput = multiplyNumbers(m,n+1)\n",
    "        return smallOutput - m\n",
    "    \n",
    "from sys import setrecursionlimit\n",
    "setrecursionlimit(11000)\n",
    "\n",
    "m = int(input())\n",
    "n = int(input())\n",
    "\n",
    "print(multiplyNumbers(m,n))"
   ]
  },
  {
   "cell_type": "code",
   "execution_count": 14,
   "metadata": {},
   "outputs": [
    {
     "name": "stdout",
     "output_type": "stream",
     "text": [
      "geography\n",
      "false\n"
     ]
    }
   ],
   "source": [
    "### Check if the string is palindrome \n",
    "\n",
    "def isPalindrome(str):\n",
    "    size = len(str)\n",
    "    \n",
    "    if size <= 1:\n",
    "        return True\n",
    "    \n",
    "    if str[0] != str[size-1]:\n",
    "        return False\n",
    "    \n",
    "    return isPalindrome(str[1:-1])\n",
    "\n",
    "str = input()\n",
    "if isPalindrome(str):\n",
    "    print('true')\n",
    "else:\n",
    "    print('false')"
   ]
  },
  {
   "cell_type": "code",
   "execution_count": 21,
   "metadata": {},
   "outputs": [
    {
     "name": "stdout",
     "output_type": "stream",
     "text": [
      "37450230450304050606\n",
      "7\n"
     ]
    }
   ],
   "source": [
    "### Count the number of zeros\n",
    "\n",
    "def countZeros(n):\n",
    "    if n < 0:\n",
    "        n *= -1\n",
    "    if n < 10:\n",
    "        if n == 0:\n",
    "            return 1\n",
    "        return 0\n",
    "    \n",
    "    smallOutput = countZeros(n // 10)\n",
    "    \n",
    "    if n%10 == 0:\n",
    "        smallOutput += 1\n",
    "    return smallOutput\n",
    "\n",
    "from sys import setrecursionlimit\n",
    "setrecursionlimit(11000)\n",
    "\n",
    "n = int(input())\n",
    "print(countZeros(n))\n",
    "    "
   ]
  },
  {
   "cell_type": "code",
   "execution_count": 23,
   "metadata": {},
   "outputs": [
    {
     "name": "stdout",
     "output_type": "stream",
     "text": [
      "1234\n",
      "10\n"
     ]
    }
   ],
   "source": [
    "def sum_of_array(n):\n",
    "    if n == 0:\n",
    "        return 0\n",
    "    \n",
    "    smallOutput = sum_of_array(n // 10)\n",
    "    return smallOutput + n%10\n",
    "\n",
    "n = int(input())\n",
    "print(sum_of_array(n))"
   ]
  },
  {
   "cell_type": "code",
   "execution_count": 29,
   "metadata": {},
   "outputs": [
    {
     "name": "stdout",
     "output_type": "stream",
     "text": [
      "1234\n",
      "1234\n"
     ]
    }
   ],
   "source": [
    "## Convert string into integer\n",
    "\n",
    "def stringToInt(str):\n",
    "    \n",
    "    if len(str) == 1:\n",
    "        return ord(str[0]) - ord('0')\n",
    "    \n",
    "    y = stringToInt(str[1:])\n",
    "    \n",
    "    x = ord(str[0]) - ord('0')\n",
    "    \n",
    "    x = x*(10**(len(str)-1)) + y\n",
    "    \n",
    "    return int(x)\n",
    "\n",
    "str = input()\n",
    "print(stringToInt(str))"
   ]
  },
  {
   "cell_type": "code",
   "execution_count": 32,
   "metadata": {},
   "outputs": [
    {
     "name": "stdout",
     "output_type": "stream",
     "text": [
      "calling\n",
      "cal*ling\n"
     ]
    }
   ],
   "source": [
    "## Return Pair Star\n",
    "\n",
    "def pairStar(str):\n",
    "    \n",
    "    if len(str) == 1:\n",
    "        return str\n",
    "    \n",
    "    if str[0] != str[1]:\n",
    "        return str[0] + pairStar(str[1:])\n",
    "    else:\n",
    "        return str[0] + \"*\" + pairStar(str[1:])\n",
    "\n",
    "\n",
    "str = input()\n",
    "print(pairStar(str))"
   ]
  },
  {
   "cell_type": "code",
   "execution_count": 2,
   "metadata": {},
   "outputs": [
    {
     "name": "stdout",
     "output_type": "stream",
     "text": [
      "aabb\n",
      "True\n"
     ]
    }
   ],
   "source": [
    "## check AB\n",
    "\n",
    "def checkAB(str):\n",
    "    if len(str) == 0:\n",
    "        return True\n",
    "    \n",
    "    if str[0] == \"a\":\n",
    "        if (len(str[1:])) > 1 and str[1:3] == \"bb\":\n",
    "            return checkAB(str[3:])\n",
    "        else:\n",
    "            return checkAB(str[1:])\n",
    "    else:\n",
    "        return False\n",
    "    \n",
    "str = input()\n",
    "print(checkAB(str))"
   ]
  },
  {
   "cell_type": "code",
   "execution_count": 5,
   "metadata": {},
   "outputs": [
    {
     "name": "stdout",
     "output_type": "stream",
     "text": [
      "5\n",
      "13\n"
     ]
    }
   ],
   "source": [
    "## Strai Case problem\n",
    "\n",
    "def stairCase(n):\n",
    "    \n",
    "    if n < 3:\n",
    "        return n\n",
    "    \n",
    "    if n == 3:\n",
    "        return 4\n",
    "    \n",
    "    else:\n",
    "        return stairCase(n-1) + stairCase(n-2) + stairCase(n-3)\n",
    "    \n",
    "n = int(input())\n",
    "count=stairCase(n)\n",
    "print(count)"
   ]
  },
  {
   "cell_type": "code",
   "execution_count": null,
   "metadata": {},
   "outputs": [],
   "source": []
  }
 ],
 "metadata": {
  "kernelspec": {
   "display_name": "Python 3",
   "language": "python",
   "name": "python3"
  },
  "language_info": {
   "codemirror_mode": {
    "name": "ipython",
    "version": 3
   },
   "file_extension": ".py",
   "mimetype": "text/x-python",
   "name": "python",
   "nbconvert_exporter": "python",
   "pygments_lexer": "ipython3",
   "version": "3.7.3"
  }
 },
 "nbformat": 4,
 "nbformat_minor": 4
}
