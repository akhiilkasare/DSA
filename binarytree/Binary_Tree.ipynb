{
 "cells": [
  {
   "cell_type": "code",
   "execution_count": 8,
   "metadata": {},
   "outputs": [
    {
     "name": "stdout",
     "output_type": "stream",
     "text": [
      "6\n"
     ]
    }
   ],
   "source": [
    "### How to create a Binary Tree node\n",
    "\n",
    "#         1\n",
    "#       /   \\\n",
    "#      2     3\n",
    "#     / \\   / \\\n",
    "#    4   5  6  7\n",
    "\n",
    "class Node:\n",
    "    def __init__(self,data):\n",
    "        self.data=data\n",
    "        self.left_node=None\n",
    "        self.right_node=None\n",
    "\n",
    "class BinaryTree:\n",
    "    def __init__(self):\n",
    "        self.root=None\n",
    "        \n",
    "ob1=BinaryTree()\n",
    "first=Node(1)\n",
    "second=Node(2)\n",
    "third=Node(3)\n",
    "fourth=Node(4)\n",
    "fifth=Node(5)\n",
    "sixth=Node(6)\n",
    "seventh=Node(7)\n",
    "\n",
    "ob1.root=first\n",
    "first.left_node=second\n",
    "first.right_node=third\n",
    "second.left_node=fourth\n",
    "second.right_node=fifth\n",
    "third.left_node=sixth\n",
    "third.right_node=seventh\n",
    "\n",
    "print(third.left_node.data)"
   ]
  },
  {
   "cell_type": "code",
   "execution_count": 2,
   "metadata": {},
   "outputs": [
    {
     "name": "stdout",
     "output_type": "stream",
     "text": [
      "4 2 5 1 6 3 7 "
     ]
    }
   ],
   "source": [
    "### Binray Tree Traversal : Inorder, Preorder, PostOrder\n",
    "\n",
    "''' Inorder Traversal : left root right '''\n",
    "\n",
    "class Node:\n",
    "    def __init__(self,data):\n",
    "        self.data=data\n",
    "        self.left_node=None\n",
    "        self.right_node=None\n",
    "\n",
    "class BinaryTree:\n",
    "    def __init__(self):\n",
    "        self.root=None\n",
    "    def inorder(self):    \n",
    "        if self.root == None:\n",
    "            print(\"Tree is empty\")\n",
    "        else:\n",
    "            self._inorder(self.root)\n",
    "    def _inorder(self,current):\n",
    "        if current:\n",
    "            self._inorder(current.left_node)\n",
    "            print(current.data,end=\" \")\n",
    "            self._inorder(current.right_node)\n",
    "            \n",
    "ob1=BinaryTree()\n",
    "first=Node(1)\n",
    "second=Node(2)\n",
    "third=Node(3)\n",
    "fourth=Node(4)\n",
    "fifth=Node(5)\n",
    "sixth=Node(6)\n",
    "seventh=Node(7)\n",
    "\n",
    "ob1.root=first\n",
    "first.left_node=second\n",
    "first.right_node=third\n",
    "second.left_node=fourth\n",
    "second.right_node=fifth\n",
    "third.left_node=sixth\n",
    "third.right_node=seventh\n",
    "\n",
    "ob1.inorder()"
   ]
  },
  {
   "cell_type": "code",
   "execution_count": null,
   "metadata": {},
   "outputs": [],
   "source": [
    "'''Recursive Solution'''\n",
    "\n",
    "# Definition for a binary tree node.\n",
    "# class TreeNode:\n",
    "#     def __init__(self, val=0, left=None, right=None):\n",
    "#         self.val = val\n",
    "#         self.left = left\n",
    "#         self.right = right\n",
    "class Solution:\n",
    "    def inorderTraversal(self, root: Optional[TreeNode]) -> List[int]:\n",
    "        if root is None:\n",
    "            return []\n",
    "        return self.inorderTraversal(root.left) + [root.val] + self.inorderTraversal(root.right)\n",
    "    \n",
    "'''Iterative Solution'''\n",
    "\n",
    "# Definition for a binary tree node.\n",
    "# class TreeNode:\n",
    "#     def __init__(self, val=0, left=None, right=None):\n",
    "#         self.val = val\n",
    "#         self.left = left\n",
    "#         self.right = right\n",
    "class Solution:\n",
    "    def inorderTraversal(self, root: Optional[TreeNode]) -> List[int]:\n",
    "        "
   ]
  },
  {
   "cell_type": "code",
   "execution_count": 1,
   "metadata": {},
   "outputs": [],
   "source": [
    "### Level Order Traversal in Binary Tree\n",
    "import collections\n",
    "class Solution:\n",
    "    def levelOrder(self,root):\n",
    "        res=[]\n",
    "        \n",
    "        q=collections.deque()\n",
    "        q.append(root)\n",
    "        while q:\n",
    "            qLen = len(q)\n",
    "            level=[]\n",
    "            for i in range(qLen):\n",
    "                node=q.popleft()\n",
    "                if node:\n",
    "                    level.append(node.val)\n",
    "                    q.append(node.left)\n",
    "                    q.append(node.right)\n",
    "            if level:\n",
    "                res.append(level)\n",
    "        return res\n",
    "        "
   ]
  },
  {
   "cell_type": "code",
   "execution_count": 8,
   "metadata": {},
   "outputs": [
    {
     "name": "stdout",
     "output_type": "stream",
     "text": [
      "Level Order traversal of binary tree is\n"
     ]
    },
    {
     "data": {
      "text/plain": [
       "deque([4, 5, 6, 7, 2, 3, 1])"
      ]
     },
     "execution_count": 8,
     "metadata": {},
     "output_type": "execute_result"
    }
   ],
   "source": [
    "### Reverse a level order traversal\n",
    "\n",
    "import collections\n",
    "\n",
    "class Node:\n",
    "    def __init__(self,val):\n",
    "        self.val=val\n",
    "        self.left=None\n",
    "        self.right=None\n",
    "\n",
    "def reverseLevelOrder(root):\n",
    "    q=collections.deque()\n",
    "    q.append(root)\n",
    "    ans=collections.deque()\n",
    "    \n",
    "    while q:\n",
    "        node=q.popleft()\n",
    "        if node is None:\n",
    "            continue\n",
    "        ans.appendleft(node.val)\n",
    "        \n",
    "        if node.right:\n",
    "            q.append(node.right)\n",
    "        \n",
    "        if node.left:\n",
    "            q.append(node.left)\n",
    "            \n",
    "    return ans\n",
    "\n",
    "root = Node(1)\n",
    "root.left = Node(2)\n",
    "root.right = Node(3)\n",
    "root.left.left = Node(4)\n",
    "root.left.right = Node(5)\n",
    "root.right.left = Node(6)\n",
    "root.right.right = Node(7)\n",
    "\n",
    "print(\"Level Order traversal of binary tree is\")\n",
    "reverseLevelOrder(root)"
   ]
  },
  {
   "cell_type": "code",
   "execution_count": null,
   "metadata": {},
   "outputs": [],
   "source": []
  }
 ],
 "metadata": {
  "kernelspec": {
   "display_name": "Python 3",
   "language": "python",
   "name": "python3"
  },
  "language_info": {
   "codemirror_mode": {
    "name": "ipython",
    "version": 3
   },
   "file_extension": ".py",
   "mimetype": "text/x-python",
   "name": "python",
   "nbconvert_exporter": "python",
   "pygments_lexer": "ipython3",
   "version": "3.7.3"
  }
 },
 "nbformat": 4,
 "nbformat_minor": 4
}
