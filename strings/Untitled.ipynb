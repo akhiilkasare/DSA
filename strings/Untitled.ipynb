{
 "cells": [
  {
   "cell_type": "code",
   "execution_count": 21,
   "metadata": {},
   "outputs": [
    {
     "name": "stdout",
     "output_type": "stream",
     "text": [
      "o\n",
      "l\n",
      "Method 1 Output : ['o', 'l', 'l', 'e', 'h']\n",
      "Method 2 Output :  olleh\n"
     ]
    }
   ],
   "source": [
    "'''\n",
    "Reverse a string\n",
    "\n",
    "I/p : ['h','e','l','l','o']\n",
    "O/p : ['o','l','l','e','h']\n",
    "'''\n",
    "\n",
    "## Method 1\n",
    "\n",
    "def reverseString(s):\n",
    " \n",
    "    size=len(s)\n",
    "\n",
    "    for i in range(size//2):\n",
    "        s[i],s[-i-1] = s[-i-1], s[i]\n",
    "        print(s[i])\n",
    "    return s\n",
    "\n",
    "s=['h','e','l','l','o']\n",
    "print(\"Method 1 Output :\",reverseString(s))\n",
    "\n",
    "## Method 2\n",
    "\n",
    "'''\n",
    "I/p : \"hello\"\n",
    "O/p : \"olleh\"\n",
    "'''\n",
    "\n",
    "def reverseString2(a):\n",
    "    return a[::-1]\n",
    "a=\"hello\"\n",
    "print(\"Method 2 Output : \",reverseString2(a))"
   ]
  },
  {
   "cell_type": "code",
   "execution_count": 35,
   "metadata": {},
   "outputs": [
    {
     "name": "stdout",
     "output_type": "stream",
     "text": [
      "[1, 1, 3, 3, 4, 2]\n"
     ]
    }
   ],
   "source": [
    "def checkDup(nums):\n",
    "    res=[]\n",
    "    for num in nums:\n",
    "        if nums[num-1]<0:\n",
    "            res.append(num)\n",
    "        else:\n",
    "            nums[num-1]=-nums[num-1]\n",
    "    return res\n",
    "    \n",
    "\n",
    "num = [1,1,1,3,3,4,3,2,4,2]\n",
    "print(checkDup(num))"
   ]
  },
  {
   "cell_type": "code",
   "execution_count": 44,
   "metadata": {},
   "outputs": [
    {
     "name": "stdout",
     "output_type": "stream",
     "text": [
      "abcd\n"
     ]
    }
   ],
   "source": [
    "# remove duplicate\n",
    "\n",
    "def removeDup(nums):\n",
    "    res = []\n",
    "    # nums=nums.sorted()\n",
    "    for num in nums:\n",
    "        if num not in res:\n",
    "            res.append(num)\n",
    "    return ''.join(sorted(res))\n",
    "num = \"cbacdcbc\"\n",
    "print(removeDup(num))"
   ]
  },
  {
   "cell_type": "code",
   "execution_count": 45,
   "metadata": {},
   "outputs": [
    {
     "name": "stdout",
     "output_type": "stream",
     "text": [
      "Palindrome\n"
     ]
    }
   ],
   "source": [
    "'''Check if the String is Palindrome or not'''\n",
    "\n",
    "def checkPalindrome(s):\n",
    "    if s == s[::-1]:\n",
    "        return \"Palindrome\"\n",
    "    else:\n",
    "        return \"Not Palindrome\"\n",
    "\n",
    "print(checkPalindrome('sus'))"
   ]
  },
  {
   "cell_type": "code",
   "execution_count": 46,
   "metadata": {},
   "outputs": [
    {
     "name": "stdout",
     "output_type": "stream",
     "text": [
      "Not Anagram\n"
     ]
    }
   ],
   "source": [
    "'''Check whether the two strings are anagrams'''\n",
    "\n",
    "def checkAnagram(s1,s2):\n",
    "    if sorted(s1) == sorted(s2):\n",
    "        return \"Anagram\"\n",
    "    else:\n",
    "        return \"Not Anagram\"\n",
    "\n",
    "print(checkAnagram(\"abd\",\"cba\"))"
   ]
  },
  {
   "cell_type": "code",
   "execution_count": 58,
   "metadata": {},
   "outputs": [
    {
     "name": "stdout",
     "output_type": "stream",
     "text": [
      "True\n"
     ]
    }
   ],
   "source": [
    "''' Check string rotation'''\n",
    "\n",
    "def stringRotation(s,goal):\n",
    "    for i in range (len(s)):\n",
    "        s = s[1:]+s[:1]\n",
    "        # print(s)\n",
    "        if s==goal:\n",
    "            return True\n",
    "    return False\n",
    "\n",
    "print(stringRotation(\"abcde\",\"cdeab\"))"
   ]
  },
  {
   "cell_type": "code",
   "execution_count": null,
   "metadata": {},
   "outputs": [],
   "source": []
  }
 ],
 "metadata": {
  "kernelspec": {
   "display_name": "Python 3.7.4 ('test1')",
   "language": "python",
   "name": "python3"
  },
  "language_info": {
   "codemirror_mode": {
    "name": "ipython",
    "version": 3
   },
   "file_extension": ".py",
   "mimetype": "text/x-python",
   "name": "python",
   "nbconvert_exporter": "python",
   "pygments_lexer": "ipython3",
   "version": "3.7.4"
  },
  "orig_nbformat": 4,
  "vscode": {
   "interpreter": {
    "hash": "5d97b42458567721daa8c4b99ca45c52be4452c91b14b81d5a271eb4e7437fcb"
   }
  }
 },
 "nbformat": 4,
 "nbformat_minor": 2
}
