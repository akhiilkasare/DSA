{
 "cells": [
  {
   "cell_type": "code",
   "execution_count": 1,
   "metadata": {},
   "outputs": [],
   "source": [
    "## Parent Class\n",
    "\n",
    "class Vehicle:\n",
    "    def __init__(self, make, model, fuel):\n",
    "        self.make = make\n",
    "        self.__model = model\n",
    "        self.__fuel = fuel\n",
    "        \n",
    "    def __private_mehtod_parent(self):\n",
    "        print(\"This is a private class\")"
   ]
  },
  {
   "cell_type": "code",
   "execution_count": 6,
   "metadata": {},
   "outputs": [],
   "source": [
    "## Child Class\n",
    "\n",
    "class Car(Vehicle):\n",
    "    def __init__(self, make, model, fuel, air_conditioning, sunroof):\n",
    "        \n",
    "        ## You can also access using super \n",
    "        super(Car, self).__init__(make, model, fuel)\n",
    "        \n",
    "        ## To access parent attributes\n",
    "#         Vehicle.make = make\n",
    "#         Vehicle.__model = model\n",
    "#         Vehicle.__fuel = fuel\n",
    "        \n",
    "        self.air_conditioning = air_conditioning\n",
    "        self.sunroof = sunroof\n",
    "        \n",
    "#     def show_parent_attribute(self):\n",
    "#         print (Vehicle.make, \" \", Vehicle.__model, \" \", Vehicle.__fuel)\n",
    "        \n",
    "#     def show_privatemethod_ofparent(self):\n",
    "#         self._Vehicle__private_method_parent()"
   ]
  },
  {
   "cell_type": "code",
   "execution_count": 7,
   "metadata": {},
   "outputs": [],
   "source": [
    "myobj = Car(\"Tesla\",2019,\"Electric\",True,True)"
   ]
  },
  {
   "cell_type": "code",
   "execution_count": 8,
   "metadata": {},
   "outputs": [
    {
     "data": {
      "text/plain": [
       "{'make': 'Tesla',\n",
       " '_Vehicle__model': 2019,\n",
       " '_Vehicle__fuel': 'Electric',\n",
       " 'air_conditioning': True,\n",
       " 'sunroof': True}"
      ]
     },
     "execution_count": 8,
     "metadata": {},
     "output_type": "execute_result"
    }
   ],
   "source": [
    "myobj.__dict__"
   ]
  },
  {
   "cell_type": "code",
   "execution_count": 9,
   "metadata": {},
   "outputs": [
    {
     "name": "stdout",
     "output_type": "stream",
     "text": [
      "This is a private class\n"
     ]
    }
   ],
   "source": [
    "myobj._Vehicle__private_mehtod_parent()"
   ]
  },
  {
   "cell_type": "markdown",
   "metadata": {},
   "source": [
    "### Polymorphism"
   ]
  },
  {
   "cell_type": "code",
   "execution_count": 52,
   "metadata": {},
   "outputs": [],
   "source": [
    "## Parent Class\n",
    "\n",
    "class Vehicle1():\n",
    "    \n",
    "    current_year = 2021\n",
    "    base_price = 1000\n",
    "    \n",
    "    def __init__(self, make, model,fuel):\n",
    "        self.make = make\n",
    "        self.__model = model\n",
    "        self.__fuel = fuel\n",
    "        \n",
    "    def __private_method_parent(self):\n",
    "        print(\"This is a private\")\n",
    "        \n",
    "    def get_value1(self): ## default function to get the value of the car\n",
    "        age = Vehicle1.current_year - self.__model\n",
    "        print (\"this is default method of parent\")\n",
    "        return Vehicle1.base_price*(1/age)"
   ]
  },
  {
   "cell_type": "code",
   "execution_count": 53,
   "metadata": {},
   "outputs": [],
   "source": [
    "## Child class\n",
    "\n",
    "class Car1(Vehicle1):\n",
    "    def __init__(self, make, model, fuel, air_conditioning, sunroof):\n",
    "        \n",
    "        super(Car1, self).__init__(make, model, fuel)\n",
    "        \n",
    "        self. air_conditioning = air_conditioning\n",
    "        self.sunroof = sunroof\n",
    "        \n",
    "        \n",
    "        ## method overriding - replaces parent default method\n",
    "        def get_value1(self):\n",
    "            Vehicle1.base_price = 5000\n",
    "            age = Vehicle1.current_year - self._Vehicle_model\n",
    "            print(\"This is a child override method\")\n",
    "            return Vehicle1.base_price*(1/age)"
   ]
  },
  {
   "cell_type": "code",
   "execution_count": 54,
   "metadata": {},
   "outputs": [],
   "source": [
    "myobj1 = Car1(\"tesla\",2019,\"electric\",True,True)"
   ]
  },
  {
   "cell_type": "code",
   "execution_count": 55,
   "metadata": {},
   "outputs": [
    {
     "data": {
      "text/plain": [
       "{'make': 'tesla',\n",
       " '_Vehicle1__model': 2019,\n",
       " '_Vehicle1__fuel': 'electric',\n",
       " 'air_conditioning': True,\n",
       " 'sunroof': True}"
      ]
     },
     "execution_count": 55,
     "metadata": {},
     "output_type": "execute_result"
    }
   ],
   "source": [
    "myobj1.__dict__"
   ]
  },
  {
   "cell_type": "code",
   "execution_count": 56,
   "metadata": {},
   "outputs": [
    {
     "name": "stdout",
     "output_type": "stream",
     "text": [
      "this is default method of parent\n"
     ]
    },
    {
     "data": {
      "text/plain": [
       "500.0"
      ]
     },
     "execution_count": 56,
     "metadata": {},
     "output_type": "execute_result"
    }
   ],
   "source": [
    "myobj1.get_value1()"
   ]
  },
  {
   "cell_type": "code",
   "execution_count": 57,
   "metadata": {},
   "outputs": [
    {
     "name": "stdout",
     "output_type": "stream",
     "text": [
      "This is a private\n"
     ]
    }
   ],
   "source": [
    "myobj1._Vehicle1__private_method_parent()"
   ]
  },
  {
   "cell_type": "code",
   "execution_count": 58,
   "metadata": {},
   "outputs": [],
   "source": [
    "myparentobj = Vehicle1(\"ford\",2018,\"petrol\")"
   ]
  },
  {
   "cell_type": "code",
   "execution_count": 59,
   "metadata": {},
   "outputs": [
    {
     "name": "stdout",
     "output_type": "stream",
     "text": [
      "this is default method of parent\n"
     ]
    },
    {
     "data": {
      "text/plain": [
       "333.3333333333333"
      ]
     },
     "execution_count": 59,
     "metadata": {},
     "output_type": "execute_result"
    }
   ],
   "source": [
    "myparentobj.get_value1()"
   ]
  },
  {
   "cell_type": "code",
   "execution_count": null,
   "metadata": {},
   "outputs": [],
   "source": []
  },
  {
   "cell_type": "code",
   "execution_count": null,
   "metadata": {},
   "outputs": [],
   "source": []
  }
 ],
 "metadata": {
  "kernelspec": {
   "display_name": "Python 3",
   "language": "python",
   "name": "python3"
  },
  "language_info": {
   "codemirror_mode": {
    "name": "ipython",
    "version": 3
   },
   "file_extension": ".py",
   "mimetype": "text/x-python",
   "name": "python",
   "nbconvert_exporter": "python",
   "pygments_lexer": "ipython3",
   "version": "3.7.3"
  }
 },
 "nbformat": 4,
 "nbformat_minor": 4
}
