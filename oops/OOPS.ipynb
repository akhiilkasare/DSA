{
 "cells": [
  {
   "cell_type": "code",
   "execution_count": null,
   "metadata": {},
   "outputs": [],
   "source": [
    "## Parent Class\n",
    "\n",
    "class Vehicle:\n",
    "    def __init__(self, make, model, fuel):\n",
    "        self.make = make\n",
    "        self.__model = model\n",
    "        self.__fuel = fuel\n",
    "        \n",
    "    def __private_mehtod_parent(self):\n",
    "        print(\"This is a private class\")"
   ]
  },
  {
   "cell_type": "code",
   "execution_count": null,
   "metadata": {},
   "outputs": [],
   "source": [
    "## Child Class\n",
    "\n",
    "class Car(Vehicle):\n",
    "    def __init__(self, make, model, fuel, air_conditioning, sunroof):\n",
    "        \n",
    "        ## You can also access using super \n",
    "        super(Car, self).__init__(make, model, fuel)\n",
    "        \n",
    "        ## To access parent attributes\n",
    "#         Vehicle.make = make\n",
    "#         Vehicle.__model = model\n",
    "#         Vehicle.__fuel = fuel\n",
    "        \n",
    "        self.air_conditioning = air_conditioning\n",
    "        self.sunroof = sunroof\n",
    "        \n",
    "#     def show_parent_attribute(self):\n",
    "#         print (Vehicle.make, \" \", Vehicle.__model, \" \", Vehicle.__fuel)\n",
    "        \n",
    "#     def show_privatemethod_ofparent(self):\n",
    "#         self._Vehicle__private_method_parent()"
   ]
  },
  {
   "cell_type": "code",
   "execution_count": null,
   "metadata": {},
   "outputs": [],
   "source": [
    "myobj = Car(\"Tesla\",2019,\"Electric\",True,True)"
   ]
  },
  {
   "cell_type": "code",
   "execution_count": null,
   "metadata": {},
   "outputs": [],
   "source": [
    "myobj.__dict__"
   ]
  },
  {
   "cell_type": "markdown",
   "metadata": {},
   "source": []
  },
  {
   "cell_type": "code",
   "execution_count": null,
   "metadata": {},
   "outputs": [],
   "source": [
    "myobj._Vehicle__private_mehtod_parent()"
   ]
  },
  {
   "cell_type": "markdown",
   "metadata": {},
   "source": [
    "### Polymorphism"
   ]
  },
  {
   "cell_type": "code",
   "execution_count": null,
   "metadata": {},
   "outputs": [],
   "source": [
    "## Parent Class\n",
    "\n",
    "class Vehicle1():\n",
    "    \n",
    "    current_year = 2021\n",
    "    base_price = 1000\n",
    "    \n",
    "    def __init__(self, make, model,fuel):\n",
    "        self.make = make\n",
    "        self.__model = model\n",
    "        self.__fuel = fuel\n",
    "        \n",
    "    def __private_method_parent(self):\n",
    "        print(\"This is a private\")\n",
    "        \n",
    "    def get_value1(self): ## default function to get the value of the car\n",
    "        age = Vehicle1.current_year - self.__model\n",
    "        print (\"this is default method of parent\")\n",
    "        return Vehicle1.base_price*(1/age)"
   ]
  },
  {
   "cell_type": "code",
   "execution_count": null,
   "metadata": {},
   "outputs": [],
   "source": [
    "## Child class\n",
    "\n",
    "class Car1(Vehicle1):\n",
    "    def __init__(self, make, model, fuel, air_conditioning, sunroof):\n",
    "        \n",
    "        super(Car1, self).__init__(make, model, fuel)\n",
    "        \n",
    "        self. air_conditioning = air_conditioning\n",
    "        self.sunroof = sunroof\n",
    "        \n",
    "        \n",
    "        ## method overriding - replaces parent default method\n",
    "        def get_value1(self):\n",
    "            Vehicle1.base_price = 5000\n",
    "            age = Vehicle1.current_year - self._Vehicle_model\n",
    "            print(\"This is a child override method\")\n",
    "            return Vehicle1.base_price*(1/age)"
   ]
  },
  {
   "cell_type": "code",
   "execution_count": null,
   "metadata": {},
   "outputs": [],
   "source": [
    "myobj1 = Car1(\"tesla\",2019,\"electric\",True,True)"
   ]
  },
  {
   "cell_type": "code",
   "execution_count": null,
   "metadata": {},
   "outputs": [],
   "source": [
    "myobj1.__dict__"
   ]
  },
  {
   "cell_type": "code",
   "execution_count": null,
   "metadata": {},
   "outputs": [],
   "source": [
    "myobj1.get_value1()"
   ]
  },
  {
   "cell_type": "code",
   "execution_count": null,
   "metadata": {},
   "outputs": [],
   "source": [
    "myobj1._Vehicle1__private_method_parent()"
   ]
  },
  {
   "cell_type": "code",
   "execution_count": null,
   "metadata": {},
   "outputs": [],
   "source": [
    "myparentobj = Vehicle1(\"ford\",2018,\"petrol\")"
   ]
  },
  {
   "cell_type": "code",
   "execution_count": null,
   "metadata": {},
   "outputs": [],
   "source": [
    "myparentobj.get_value1()"
   ]
  },
  {
   "cell_type": "markdown",
   "metadata": {},
   "source": [
    "### multilevel inheritance"
   ]
  },
  {
   "cell_type": "code",
   "execution_count": null,
   "metadata": {},
   "outputs": [],
   "source": [
    "## parent class\n",
    "class Vehicle:\n",
    "    def __init__(self, make, model, fuel):\n",
    "        self.make = make\n",
    "        self.model = model\n",
    "        self.fuel = fuel\n",
    "        \n",
    "## child class\n",
    "class Car(Vehicle):\n",
    "    def __init__(self, make, model, fuel, air_conditioning, sunroof):\n",
    "        super(Car, self).__init__(make, model, fuel) ##calling the attributes inside super function of parent\n",
    "        \n",
    "        self.air_conditioning = air_conditioning\n",
    "        self.sunroof = sunroof\n",
    "        \n",
    "class ElectricVehicle(Car):\n",
    "    \n",
    "    def __init__(self, make, model, fuel, air_conditioning, sunroof, distance):\n",
    "        \n",
    "        super(ElectricVehicle, self).__init__(make, model, fuel, air_conditioning, sunroof)\n",
    "        \n",
    "        self.distance = distance\n",
    "        "
   ]
  },
  {
   "cell_type": "code",
   "execution_count": null,
   "metadata": {},
   "outputs": [],
   "source": [
    "myobj = ElectricVehicle(\"tesla\",2019,\"electric\", True, True, 500)"
   ]
  },
  {
   "cell_type": "code",
   "execution_count": null,
   "metadata": {},
   "outputs": [],
   "source": [
    "myobj.__dict__"
   ]
  },
  {
   "cell_type": "code",
   "execution_count": null,
   "metadata": {},
   "outputs": [],
   "source": [
    "class A:\n",
    "\n",
    "    def __init__(self):\n",
    "        print(\"init of A called\")\n",
    "class B:\n",
    "    def __init__(self):\n",
    "        print(\"init of B called\")\n",
    "\n",
    "class C(B,A):\n",
    "    def __init__(self):\n",
    "        super().__init__()\n",
    "\n",
    "c = C()"
   ]
  },
  {
   "cell_type": "markdown",
   "metadata": {},
   "source": [
    "### Method Overloading order"
   ]
  },
  {
   "cell_type": "code",
   "execution_count": null,
   "metadata": {},
   "outputs": [],
   "source": [
    "class Car:\n",
    "    def __init__(self, make, model, fuel):\n",
    "        self.make = make\n",
    "        self.model = model\n",
    "        self.fuel = fuel\n",
    "        \n",
    "    def get_car_detail(self):\n",
    "        return \"the make of the car is\", self.make, \"from car class\"\n",
    "        \n",
    "class ElectricCar:\n",
    "    def __init__(self, make, model, fuel):\n",
    "        self.make = make\n",
    "        self.model = model\n",
    "        self.fuel = fuel\n",
    "        \n",
    "    def get_car_detail(self):\n",
    "        return \"the make of the car is\", self.make, \"from ElectricCar class\""
   ]
  },
  {
   "cell_type": "code",
   "execution_count": null,
   "metadata": {},
   "outputs": [],
   "source": [
    "class Taxi(Car, ElectricCar):\n",
    "    def __init__(self, make, model, fuel):\n",
    "        super().__init__(make, model, fuel)"
   ]
  },
  {
   "cell_type": "code",
   "execution_count": null,
   "metadata": {},
   "outputs": [],
   "source": [
    "myobj = Taxi(\"tesla\",2019,\"electric\")"
   ]
  },
  {
   "cell_type": "code",
   "execution_count": null,
   "metadata": {},
   "outputs": [],
   "source": [
    "myobj.get_car_detail()"
   ]
  },
  {
   "cell_type": "code",
   "execution_count": null,
   "metadata": {},
   "outputs": [],
   "source": []
  }
 ],
 "metadata": {
  "kernelspec": {
   "display_name": "Python 3",
   "language": "python",
   "name": "python3"
  },
  "language_info": {
   "codemirror_mode": {
    "name": "ipython",
    "version": 3
   },
   "file_extension": ".py",
   "mimetype": "text/x-python",
   "name": "python",
   "nbconvert_exporter": "python",
   "pygments_lexer": "ipython3",
   "version": "3.7.3"
  }
 },
 "nbformat": 4,
 "nbformat_minor": 4
}