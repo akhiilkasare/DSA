{
 "cells": [
  {
   "cell_type": "code",
   "execution_count": 6,
   "metadata": {},
   "outputs": [
    {
     "name": "stdout",
     "output_type": "stream",
     "text": [
      "Distance from vertex 0 to vertex 0 is 0\n",
      "Distance from vertex 0 to vertex 1 is 4\n",
      "Distance from vertex 0 to vertex 2 is 11\n",
      "Distance from vertex 0 to vertex 3 is 17\n",
      "Distance from vertex 0 to vertex 4 is 9\n",
      "Distance from vertex 0 to vertex 5 is 22\n",
      "Distance from vertex 0 to vertex 6 is 7\n",
      "Distance from vertex 0 to vertex 7 is 8\n",
      "Distance from vertex 0 to vertex 8 is 11\n"
     ]
    }
   ],
   "source": [
    "## Dijkstra's algorithm\n",
    "\n",
    "from queue import PriorityQueue\n",
    "\n",
    "class Graph:\n",
    "    def __init__(self,num_of_vertices):\n",
    "        self.v = num_of_vertices\n",
    "        self.edges = [[-1 for i in range(num_of_vertices)] for j in range(num_of_vertices)]\n",
    "        self.visited = []\n",
    "\n",
    "    def add_edge(self,u,v,weight):\n",
    "        self.edges[u][v] = weight\n",
    "        self.edges[v][u] = weight\n",
    "\n",
    "def dijkstra(graph, start_vertex):\n",
    "    D = {v:float(\"inf\") for v in range(graph.v)}\n",
    "    D[start_vertex] = 0\n",
    "    pq = PriorityQueue()\n",
    "    pq.put((0, start_vertex))\n",
    "\n",
    "    while not pq.empty():\n",
    "        (dist, current_vertex) = pq.get()\n",
    "        graph.visited.append(current_vertex)\n",
    "        for neighbour in range(graph.v):\n",
    "            if graph.edges[current_vertex][neighbour] != -1:\n",
    "                distance = graph.edges[current_vertex][neighbour]\n",
    "\n",
    "                if neighbour not in graph.visited:\n",
    "                    old_cost = D[neighbour]\n",
    "                    new_cost = D[current_vertex] + distance\n",
    "                    if new_cost < old_cost:\n",
    "                        pq.put((new_cost, neighbour))\n",
    "                        D[neighbour] = new_cost\n",
    "\n",
    "    return D\n",
    "\n",
    "g = Graph(9)\n",
    "g.add_edge(0, 1, 4)\n",
    "g.add_edge(0, 6, 7)\n",
    "g.add_edge(1, 6, 11)\n",
    "g.add_edge(1, 7, 20)\n",
    "g.add_edge(1, 2, 9)\n",
    "g.add_edge(2, 3, 6)\n",
    "g.add_edge(2, 4, 2)\n",
    "g.add_edge(3, 4, 10)\n",
    "g.add_edge(3, 5, 5)\n",
    "g.add_edge(4, 5, 15)\n",
    "g.add_edge(4, 7, 1)\n",
    "g.add_edge(4, 8, 5)\n",
    "g.add_edge(5, 8, 12)\n",
    "g.add_edge(6, 7, 1)\n",
    "g.add_edge(7, 8, 3) \n",
    "\n",
    "D = dijkstra(g, 0)\n",
    "for vertex in range(len(D)):\n",
    "    print(\"Distance from vertex 0 to vertex\", vertex, \"is\", D[vertex])"
   ]
  },
  {
   "cell_type": "code",
   "execution_count": 2,
   "metadata": {},
   "outputs": [
    {
     "name": "stdout",
     "output_type": "stream",
     "text": [
      "4\n"
     ]
    }
   ],
   "source": [
    "## Maximize Expressions\n",
    "\n",
    "def maxmizeExpression(array):\n",
    "    if len(array) < 4:\n",
    "        return 0\n",
    "    maximumValueFound = float(\"-inf\")\n",
    "\n",
    "    for a in range(len(array)):\n",
    "        aValue = array[a]\n",
    "        for b in range(a+1, len(array)):\n",
    "            bValue = array[b]\n",
    "            for c in range(b+1, len(array)):\n",
    "                cValue = array[c]\n",
    "                for d in range(c+1, len(array)):\n",
    "                    dValue = array[d]\n",
    "\n",
    "                    expressionValue = evaluateExpression(aValue, bValue, cValue, dValue)\n",
    "                    maximumValueFound = max(expressionValue, maximumValueFound)\n",
    "        \n",
    "    return maximumValueFound\n",
    "\n",
    "def evaluateExpression(a,b,c,d):\n",
    "    return a - b + c - d\n",
    "\n",
    "array = [3,6,1,-3,2,7]\n",
    "print(maxmizeExpression(array))"
   ]
  },
  {
   "cell_type": "code",
   "execution_count": 4,
   "metadata": {},
   "outputs": [
    {
     "name": "stdout",
     "output_type": "stream",
     "text": [
      "80\n"
     ]
    }
   ],
   "source": [
    "### Travelling Salesman Problem\n",
    "\n",
    "from sys import maxsize\n",
    "from itertools import permutations\n",
    "\n",
    "V=4\n",
    "\n",
    "def travellingSalesmanProblem(graph, s):\n",
    "    vertex = []\n",
    "    for i in range(V):\n",
    "        if i != s:\n",
    "            vertex.append(i)\n",
    "    \n",
    "    min_path = maxsize\n",
    "    next_permutation = permutations(vertex)\n",
    "    for i in next_permutation:\n",
    "        current_pathweight = 0\n",
    "        k=s\n",
    "        for j in i:\n",
    "            current_pathweight += graph[k][j]\n",
    "            k=j\n",
    "        current_pathweight += graph[k][s]\n",
    "        min_path = min(min_path, current_pathweight)\n",
    "    \n",
    "    return min_path\n",
    "\n",
    "if __name__ == \"__main__\":\n",
    "\tgraph = [[0, 10, 15, 20], [10, 0, 35, 25],\n",
    "\t\t\t[15, 35, 0, 30], [20, 25, 30, 0]]\n",
    "\ts = 0\n",
    "\tprint(travellingSalesmanProblem(graph, s))"
   ]
  },
  {
   "cell_type": "code",
   "execution_count": 11,
   "metadata": {},
   "outputs": [
    {
     "ename": "TypeError",
     "evalue": "__init__() missing 1 required positional argument: 'name'",
     "output_type": "error",
     "traceback": [
      "\u001b[1;31m---------------------------------------------------------------------------\u001b[0m",
      "\u001b[1;31mTypeError\u001b[0m                                 Traceback (most recent call last)",
      "\u001b[1;32m~\\AppData\\Local\\Temp/ipykernel_16416/2294610719.py\u001b[0m in \u001b[0;36m<module>\u001b[1;34m\u001b[0m\n\u001b[0;32m     30\u001b[0m \u001b[1;33m\u001b[0m\u001b[0m\n\u001b[0;32m     31\u001b[0m \u001b[1;33m\u001b[0m\u001b[0m\n\u001b[1;32m---> 32\u001b[1;33m \u001b[0mg\u001b[0m \u001b[1;33m=\u001b[0m \u001b[0mNode\u001b[0m\u001b[1;33m(\u001b[0m\u001b[1;33m)\u001b[0m\u001b[1;33m\u001b[0m\u001b[1;33m\u001b[0m\u001b[0m\n\u001b[0m\u001b[0;32m     33\u001b[0m \u001b[0mg\u001b[0m\u001b[1;33m.\u001b[0m\u001b[0maddChild\u001b[0m\u001b[1;33m(\u001b[0m\u001b[1;36m1\u001b[0m\u001b[1;33m)\u001b[0m\u001b[1;33m\u001b[0m\u001b[1;33m\u001b[0m\u001b[0m\n\u001b[0;32m     34\u001b[0m \u001b[0mg\u001b[0m\u001b[1;33m.\u001b[0m\u001b[0maddChild\u001b[0m\u001b[1;33m(\u001b[0m\u001b[1;36m2\u001b[0m\u001b[1;33m)\u001b[0m\u001b[1;33m\u001b[0m\u001b[1;33m\u001b[0m\u001b[0m\n",
      "\u001b[1;31mTypeError\u001b[0m: __init__() missing 1 required positional argument: 'name'"
     ]
    }
   ],
   "source": [
    "## Depth First Search\n",
    "\n",
    "class Node:\n",
    "    def __init__(self,node):\n",
    "        self.edges = []\n",
    "        self.node = node\n",
    "\n",
    "    def addChild(self, node):\n",
    "        self.edges.append(Node(node))\n",
    "    \n",
    "    def dfs(self,array):\n",
    "        array.append(self.node)\n",
    "        for child in self.edges:\n",
    "            child.dfs(array)\n",
    "        return array\n",
    "\n",
    "\n",
    "g = Node()\n",
    "g.addChild(0, 1)\n",
    "g.addChild(0, 2)\n",
    "g.addChild(1, 2)\n",
    "g.addChild(2, 0)\n",
    "g.addChild(2, 3)\n",
    "g.addChild(3, 3)\n",
    "\n",
    "# s = Node\n",
    "# array = ['a','b','e','f','i','j','c','d','g','k','h']\n",
    "# print(s.dfs(array))"
   ]
  },
  {
   "cell_type": "code",
   "execution_count": null,
   "metadata": {},
   "outputs": [],
   "source": []
  }
 ],
 "metadata": {
  "kernelspec": {
   "display_name": "Python 3",
   "language": "python",
   "name": "python3"
  },
  "language_info": {
   "codemirror_mode": {
    "name": "ipython",
    "version": 3
   },
   "file_extension": ".py",
   "mimetype": "text/x-python",
   "name": "python",
   "nbconvert_exporter": "python",
   "pygments_lexer": "ipython3",
   "version": "3.7.4"
  },
  "orig_nbformat": 4,
  "vscode": {
   "interpreter": {
    "hash": "8c2dc7f55a4afb133f9671f18548a683b80d7f864af89313bd9839ac682f147f"
   }
  }
 },
 "nbformat": 4,
 "nbformat_minor": 2
}
