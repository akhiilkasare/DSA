{
 "cells": [
  {
   "cell_type": "code",
   "execution_count": 6,
   "metadata": {},
   "outputs": [
    {
     "name": "stdout",
     "output_type": "stream",
     "text": [
      "Distance from vertex 0 to vertex 0 is 0\n",
      "Distance from vertex 0 to vertex 1 is 4\n",
      "Distance from vertex 0 to vertex 2 is 11\n",
      "Distance from vertex 0 to vertex 3 is 17\n",
      "Distance from vertex 0 to vertex 4 is 9\n",
      "Distance from vertex 0 to vertex 5 is 22\n",
      "Distance from vertex 0 to vertex 6 is 7\n",
      "Distance from vertex 0 to vertex 7 is 8\n",
      "Distance from vertex 0 to vertex 8 is 11\n"
     ]
    }
   ],
   "source": [
    "## Dijkstra's algorithm\n",
    "\n",
    "from queue import PriorityQueue\n",
    "\n",
    "class Graph:\n",
    "    def __init__(self,num_of_vertices):\n",
    "        self.v = num_of_vertices\n",
    "        self.edges = [[-1 for i in range(num_of_vertices)] for j in range(num_of_vertices)]\n",
    "        self.visited = []\n",
    "\n",
    "    def add_edge(self,u,v,weight):\n",
    "        self.edges[u][v] = weight\n",
    "        self.edges[v][u] = weight\n",
    "\n",
    "def dijkstra(graph, start_vertex):\n",
    "    D = {v:float(\"inf\") for v in range(graph.v)}\n",
    "    D[start_vertex] = 0\n",
    "    pq = PriorityQueue()\n",
    "    pq.put((0, start_vertex))\n",
    "\n",
    "    while not pq.empty():\n",
    "        (dist, current_vertex) = pq.get()\n",
    "        graph.visited.append(current_vertex)\n",
    "        for neighbour in range(graph.v):\n",
    "            if graph.edges[current_vertex][neighbour] != -1:\n",
    "                distance = graph.edges[current_vertex][neighbour]\n",
    "\n",
    "                if neighbour not in graph.visited:\n",
    "                    old_cost = D[neighbour]\n",
    "                    new_cost = D[current_vertex] + distance\n",
    "                    if new_cost < old_cost:\n",
    "                        pq.put((new_cost, neighbour))\n",
    "                        D[neighbour] = new_cost\n",
    "\n",
    "    return D\n",
    "\n",
    "g = Graph(9)\n",
    "g.add_edge(0, 1, 4)\n",
    "g.add_edge(0, 6, 7)\n",
    "g.add_edge(1, 6, 11)\n",
    "g.add_edge(1, 7, 20)\n",
    "g.add_edge(1, 2, 9)\n",
    "g.add_edge(2, 3, 6)\n",
    "g.add_edge(2, 4, 2)\n",
    "g.add_edge(3, 4, 10)\n",
    "g.add_edge(3, 5, 5)\n",
    "g.add_edge(4, 5, 15)\n",
    "g.add_edge(4, 7, 1)\n",
    "g.add_edge(4, 8, 5)\n",
    "g.add_edge(5, 8, 12)\n",
    "g.add_edge(6, 7, 1)\n",
    "g.add_edge(7, 8, 3) \n",
    "\n",
    "D = dijkstra(g, 0)\n",
    "for vertex in range(len(D)):\n",
    "    print(\"Distance from vertex 0 to vertex\", vertex, \"is\", D[vertex])"
   ]
  },
  {
   "cell_type": "code",
   "execution_count": 2,
   "metadata": {},
   "outputs": [
    {
     "name": "stdout",
     "output_type": "stream",
     "text": [
      "4\n"
     ]
    }
   ],
   "source": [
    "## Maximize Expressions\n",
    "\n",
    "def maxmizeExpression(array):\n",
    "    if len(array) < 4:\n",
    "        return 0\n",
    "    maximumValueFound = float(\"-inf\")\n",
    "\n",
    "    for a in range(len(array)):\n",
    "        aValue = array[a]\n",
    "        for b in range(a+1, len(array)):\n",
    "            bValue = array[b]\n",
    "            for c in range(b+1, len(array)):\n",
    "                cValue = array[c]\n",
    "                for d in range(c+1, len(array)):\n",
    "                    dValue = array[d]\n",
    "\n",
    "                    expressionValue = evaluateExpression(aValue, bValue, cValue, dValue)\n",
    "                    maximumValueFound = max(expressionValue, maximumValueFound)\n",
    "        \n",
    "    return maximumValueFound\n",
    "\n",
    "def evaluateExpression(a,b,c,d):\n",
    "    return a - b + c - d\n",
    "\n",
    "array = [3,6,1,-3,2,7]\n",
    "print(maxmizeExpression(array))"
   ]
  },
  {
   "cell_type": "code",
   "execution_count": 4,
   "metadata": {},
   "outputs": [
    {
     "name": "stdout",
     "output_type": "stream",
     "text": [
      "80\n"
     ]
    }
   ],
   "source": [
    "### Travelling Salesman Problem\n",
    "\n",
    "from sys import maxsize\n",
    "from itertools import permutations\n",
    "\n",
    "V=4\n",
    "\n",
    "def travellingSalesmanProblem(graph, s):\n",
    "    vertex = []\n",
    "    for i in range(V):\n",
    "        if i != s:\n",
    "            vertex.append(i)\n",
    "    \n",
    "    min_path = maxsize\n",
    "    next_permutation = permutations(vertex)\n",
    "    for i in next_permutation:\n",
    "        current_pathweight = 0\n",
    "        k=s\n",
    "        for j in i:\n",
    "            current_pathweight += graph[k][j]\n",
    "            k=j\n",
    "        current_pathweight += graph[k][s]\n",
    "        min_path = min(min_path, current_pathweight)\n",
    "    \n",
    "    return min_path\n",
    "\n",
    "if __name__ == \"__main__\":\n",
    "\tgraph = [[0, 10, 15, 20], [10, 0, 35, 25],\n",
    "\t\t\t[15, 35, 0, 30], [20, 25, 30, 0]]\n",
    "\ts = 0\n",
    "\tprint(travellingSalesmanProblem(graph, s))"
   ]
  },
  {
   "cell_type": "code",
   "execution_count": 27,
   "metadata": {},
   "outputs": [
    {
     "name": "stdout",
     "output_type": "stream",
     "text": [
      "['a', 'b', 'e', 'f', 'i', 'j', 'c', 'd', 'g', 'k', 'h', 'a', 'b', 'c', 'd', 'e', 'f', 'g', 'h', 'i', 'j', 'g', 'a', 'b', 'c', 'd', 'e', 'f', 'g', 'h', 'i', 'j', 'g', 'a', 'b', 'c', 'd', 'e', 'f', 'g', 'h', 'i', 'j', 'g', 'a', 'b', 'c', 'd', 'e', 'f', 'g', 'h', 'i', 'j', 'g', 'a', 'b', 'c', 'd', 'e', 'f', 'g', 'h', 'i', 'j', 'g', 'a', 'b', 'c', 'd', 'e', 'f', 'g', 'h', 'i', 'j', 'g', 'a', 'a', 'b', 'c', 'd', 'e', 'f', 'g', 'h', 'i', 'j', 'g', 'a', 'b', 'c', 'd', 'e', 'f', 'g', 'h', 'i', 'j', 'g']\n"
     ]
    }
   ],
   "source": [
    "## Depth First Search\n",
    "\n",
    "class Node:\n",
    "    def __init__(self,node):\n",
    "        self.edges = []\n",
    "        self.node = node\n",
    "\n",
    "    def addChild(self, node):\n",
    "        self.edges.append(Node(node))\n",
    "    \n",
    "    def dfs(self,array):\n",
    "        array.append(self.node)\n",
    "        for child in self.edges:            \n",
    "            child.dfs(array)\n",
    "        return array\n",
    "\n",
    "\n",
    "g = Node('a')\n",
    "g.addChild('b')\n",
    "g.addChild('c')\n",
    "g.addChild('d')\n",
    "g.addChild('e')\n",
    "g.addChild('f')\n",
    "g.addChild('g')\n",
    "g.addChild('h')\n",
    "g.addChild('i')\n",
    "g.addChild('j')\n",
    "g.addChild('g')\n",
    "\n",
    "# s = Node\n",
    "# array = ['a','b','e','f','i','j','c','d','g','k','h']\n",
    "print(g.dfs(array))"
   ]
  },
  {
   "cell_type": "code",
   "execution_count": 30,
   "metadata": {},
   "outputs": [
    {
     "name": "stdout",
     "output_type": "stream",
     "text": [
      "A\n",
      "B\n",
      "D\n",
      "E\n",
      "F\n",
      "C\n",
      "None\n"
     ]
    }
   ],
   "source": [
    "## Depth First Search\n",
    "graph = {\n",
    "    'A' : ['B','C'],\n",
    "    'B' : ['D','E'],\n",
    "    'C' : ['F'],\n",
    "    'D' : [],\n",
    "    'E' : ['F'],\n",
    "    'F' : []\n",
    "}\n",
    "\n",
    "visited = set() ## to keep the track of the visited node\n",
    "\n",
    "def dfs(visited, graph, node):\n",
    "    if node not in visited:\n",
    "        print(node)\n",
    "        visited.add(node)\n",
    "    for neighbor in graph[node]:\n",
    "        dfs(visited, graph, neighbor)\n",
    "    return\n",
    "\n",
    "\n",
    "\n",
    "print(dfs(visited, graph, 'A'))"
   ]
  },
  {
   "cell_type": "code",
   "execution_count": 31,
   "metadata": {},
   "outputs": [],
   "source": [
    "### Breadth First Search\n",
    "\n",
    "class Node:\n",
    "    def __init__(self,name):\n",
    "        self.children = []\n",
    "        self.name = name\n",
    "    \n",
    "    def addChild(self,name):\n",
    "        self.children.append(Node(name))\n",
    "    \n",
    "    def breadthFirstSearch(self,array):\n",
    "        queue = [self]\n",
    "        while len(queue) > 0:\n",
    "            current = queue.pop(0)\n",
    "            array.append(current.name)\n",
    "            for child in current.children:\n",
    "                queue.append(child)\n",
    "        return array"
   ]
  },
  {
   "cell_type": "code",
   "execution_count": 2,
   "metadata": {},
   "outputs": [
    {
     "name": "stdout",
     "output_type": "stream",
     "text": [
      "True\n"
     ]
    }
   ],
   "source": [
    "## Check if he graph has single cycle\n",
    "\n",
    "def hasSingleCycle(array):\n",
    "    numVisitedElements = 0\n",
    "    currentIdx = 0\n",
    "\n",
    "    while numVisitedElements < len(array):\n",
    "        if numVisitedElements > 0 and currentIdx == 0:\n",
    "            return False\n",
    "        numVisitedElements += 1\n",
    "        currentIdx = getNextIdx(currentIdx, array)\n",
    "    return currentIdx == 0\n",
    "\n",
    "def getNextIdx(currentIdx, array):\n",
    "    jump = array[currentIdx]\n",
    "    nextIdx = (currentIdx + jump) % len(array)\n",
    "    return nextIdx if nextIdx >= 0 else nextIdx + len(array)\n",
    "\n",
    "array = [2,3,1,-4,-4,2]\n",
    "print(hasSingleCycle(array))"
   ]
  },
  {
   "cell_type": "code",
   "execution_count": 5,
   "metadata": {},
   "outputs": [
    {
     "name": "stdout",
     "output_type": "stream",
     "text": [
      "[2, 1, 5, 2, 2]\n"
     ]
    }
   ],
   "source": [
    "## River sizes\n",
    "\n",
    "def riverSizes(matrix):\n",
    "    sizes=[]\n",
    "    for i in range(len(matrix)):\n",
    "        for j in range(len(matrix[0])):\n",
    "            if matrix[i][j] == 0 or matrix[i][j] == -1: ## checking if the elements are within the boundaries of the matrix\n",
    "                continue\n",
    "            size = checkBottomLeft(i,j,matrix)\n",
    "            sizes.append(size)\n",
    "    return sizes\n",
    "\n",
    "def checkBottomLeft(i, j, matrix):\n",
    "    if i >= len(matrix) or i < 0 : return 0\n",
    "    if j >= len(matrix[0]) or j < 0 : return 0\n",
    "\n",
    "    if matrix[i][j] == 1:\n",
    "        matrix[i][j] =- 1\n",
    "        right = checkBottomLeft(i+1, j, matrix)\n",
    "        bottom = checkBottomLeft(i, j+1, matrix)\n",
    "        left = checkBottomLeft(i-1, j, matrix)\n",
    "        up = checkBottomLeft(i, j-1, matrix)\n",
    "\n",
    "        return (left+right+bottom+up+1)\n",
    "\n",
    "    return 0\n",
    "\n",
    "matrix = [\n",
    "    [1,0,0,1,0],\n",
    "    [1,0,1,0,0],\n",
    "    [0,0,1,0,1],\n",
    "    [1,0,1,0,1],\n",
    "    [1,0,1,1,0]\n",
    "]\n",
    "print(riverSizes(matrix))"
   ]
  },
  {
   "cell_type": "code",
   "execution_count": 1,
   "metadata": {},
   "outputs": [],
   "source": [
    "## Lowest common ancestor\n",
    "\n",
    "def lowestCommonAncestor(ancestor, descendantOne, descendantTwo):\n",
    "    depthOne = getDescendantDepth(descendantOne, topAncestor)\n",
    "    depthTwo = getDescendantDepth(descendantTwo, topAncestor)\n",
    "\n",
    "    if depthOne > depthTwo:\n",
    "        return backTrackAllAncestors(descendantOne, descendantTwo, depthOne - depthTwo)\n",
    "    else:\n",
    "        return backTrackAllAncestors(descendantTwo, descendantOne, depthTwo - depthOne)\n",
    "\n",
    "def getDescendantDepth(descendant, topAncestor):\n",
    "    depth = 0\n",
    "    while descendant != topAncestor:\n",
    "        depth += 1\n",
    "        descendant = descendant.ancestor\n",
    "    return depth\n",
    "\n",
    "def backTrackAllAncestors(lowerDescendant, highestDescendant, diff):\n",
    "    while diff > 0:\n",
    "        lowerDescendant = lowerDescendant.ancestor\n",
    "        diff -= 1\n",
    "    while lowerDescendant != highestDescendant:\n",
    "        lowerDescendant = lowerDescendant.ancestor\n",
    "        highestDescendant = highestDescendant.ancestor\n",
    "    return lowerDescendant\n"
   ]
  }
 ],
 "metadata": {
  "kernelspec": {
   "display_name": "Python 3",
   "language": "python",
   "name": "python3"
  },
  "language_info": {
   "codemirror_mode": {
    "name": "ipython",
    "version": 3
   },
   "file_extension": ".py",
   "mimetype": "text/x-python",
   "name": "python",
   "nbconvert_exporter": "python",
   "pygments_lexer": "ipython3",
   "version": "3.7.4"
  },
  "orig_nbformat": 4,
  "vscode": {
   "interpreter": {
    "hash": "8c2dc7f55a4afb133f9671f18548a683b80d7f864af89313bd9839ac682f147f"
   }
  }
 },
 "nbformat": 4,
 "nbformat_minor": 2
}
