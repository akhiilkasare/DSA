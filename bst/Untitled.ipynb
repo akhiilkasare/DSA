{
 "cells": [
  {
   "cell_type": "code",
   "execution_count": 2,
   "id": "4d09efee-ac29-4dbc-a49d-10b8283fc37c",
   "metadata": {},
   "outputs": [],
   "source": [
    "## Search in a Binary Search Tree\n",
    "\n",
    "class Solution:\n",
    "    def searchBST(self,root):\n",
    "        curr_node=root\n",
    "        while curr_node:\n",
    "            if curr_node.val==val:\n",
    "                return val\n",
    "            elif val > curr_node.val:\n",
    "                curr_node=curr_node.right\n",
    "            else:\n",
    "                curr_node=curr_node.left\n",
    "        return None"
   ]
  },
  {
   "cell_type": "code",
   "execution_count": 1,
   "id": "4a6fa7c5-ee11-4a6b-972e-3d223b947c42",
   "metadata": {},
   "outputs": [],
   "source": [
    "## Deletion of a node in BST\n",
    "\n",
    "class Solution:\n",
    "    def deleteNode(self,root,key):\n",
    "        if not root:\n",
    "            return None\n",
    "        \n",
    "        if root.val==key:\n",
    "            if not root.left and not root.right:\n",
    "                return None\n",
    "            if not root.left and root.right:\n",
    "                return root.right\n",
    "            if root.left and not root.right:\n",
    "                return root.left\n",
    "            \n",
    "            ## Checking if both the sub nodes have child nodes\n",
    "            pnt=root.right\n",
    "            while root.left:\n",
    "                pnt=root.left\n",
    "            root.val=pnt.val\n",
    "            root.right=self.deleteNode(root.right,root.val)\n",
    "            \n",
    "        if key < root.val:\n",
    "            root.left=self.deleteNode(root.left,key)\n",
    "        else:\n",
    "            root.right=self.deleteNode(root.right,key)\n",
    "            \n",
    "        return root\n",
    "        "
   ]
  },
  {
   "cell_type": "code",
   "execution_count": null,
   "id": "3ddafee0-f2fd-4f10-8255-45d0f885c38d",
   "metadata": {},
   "outputs": [],
   "source": [
    "## Maximum Binary Search Tree\n",
    "\n",
    "class Solution:\n",
    "    def constructMaximumBinaryTree(self,nums):\n",
    "        if not nums:\n",
    "            return None\n",
    "        \n",
    "        mx=max(nums)\n",
    "        index=nums.index(mx)\n",
    "        root=TreeNode(mx)\n",
    "        \n",
    "        root.left = self.constructMaximumBinaryTree(nums[:index])\n",
    "        root.right = self.constructMaximumBinaryTree(nums[index+1:])\n",
    "        \n",
    "        return root"
   ]
  },
  {
   "cell_type": "code",
   "execution_count": 1,
   "id": "68cd486f-5135-4aa5-914d-24108208011e",
   "metadata": {},
   "outputs": [],
   "source": [
    "## Inoder Sucessor in BST (Medium)\n",
    "\n",
    "class Solution:\n",
    "    def inorderSucessor(self,root,p):\n",
    "        if not root:\n",
    "            return None\n",
    "        \n",
    "        if p.val >= root.val:\n",
    "            return self.inorderSucessor(root.right,p)\n",
    "        \n",
    "        left=self.inorderSucessor(root.left,p)\n",
    "        \n",
    "        if left != None:\n",
    "            return left\n",
    "        else:\n",
    "            return root"
   ]
  },
  {
   "cell_type": "code",
   "execution_count": 3,
   "id": "c2e476e1-1eff-4941-a272-d42a54588c93",
   "metadata": {},
   "outputs": [],
   "source": [
    "## Inorder Predessor in BST\n",
    "\n",
    "class Solution:\n",
    "    def inorderPredessor(self,root,p):\n",
    "        if p.val < root.val:\n",
    "            return self.inorderPredessor(root.left,p)\n",
    "        elif p.val==root.val:\n",
    "            return root.left\n",
    "        else:\n",
    "            right=self.inorderPredessor(root.right,p)\n",
    "            if right == None:\n",
    "                return root\n",
    "            else:\n",
    "                return right"
   ]
  },
  {
   "cell_type": "code",
   "execution_count": null,
   "id": "d7358f89-ba8b-414b-80e8-a43a518351dc",
   "metadata": {},
   "outputs": [],
   "source": []
  }
 ],
 "metadata": {
  "kernelspec": {
   "display_name": "Python 3 (ipykernel)",
   "language": "python",
   "name": "python3"
  },
  "language_info": {
   "codemirror_mode": {
    "name": "ipython",
    "version": 3
   },
   "file_extension": ".py",
   "mimetype": "text/x-python",
   "name": "python",
   "nbconvert_exporter": "python",
   "pygments_lexer": "ipython3",
   "version": "3.9.7"
  }
 },
 "nbformat": 4,
 "nbformat_minor": 5
}
