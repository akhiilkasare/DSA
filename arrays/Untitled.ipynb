{
 "cells": [
  {
   "cell_type": "code",
   "execution_count": 9,
   "id": "a9bab2c1-5f91-4ddf-aa5f-ae4c0735a39e",
   "metadata": {},
   "outputs": [
    {
     "data": {
      "text/plain": [
       "[4, 3, 2, 1]"
      ]
     },
     "execution_count": 9,
     "metadata": {},
     "output_type": "execute_result"
    }
   ],
   "source": [
    "## Reverse an array without using inbuilt functions\n",
    "\n",
    "def Reverse(nums):\n",
    "    if len(nums)==1:\n",
    "        return nums\n",
    "    return Reverse(nums[1:]) + nums[0:1]\n",
    "nums=[1,2,3,4]\n",
    "Reverse(nums)"
   ]
  },
  {
   "cell_type": "code",
   "execution_count": 13,
   "id": "5207eb89-2769-4ce7-a1e6-0a386cc4da8b",
   "metadata": {},
   "outputs": [
    {
     "data": {
      "text/plain": [
       "'22'"
      ]
     },
     "execution_count": 13,
     "metadata": {},
     "output_type": "execute_result"
    }
   ],
   "source": [
    "## Find the kth maximum element in an array\n",
    "\n",
    "# class Solution:\n",
    "#     def findkthmaximum(self,nums,k):\n",
    "#         n=len(nums)\n",
    "#         nums.sort()\n",
    "#         a=n-k+1\n",
    "#         return nums[a-1]\n",
    "    \n",
    "class Solution:\n",
    "    def findkthmaximum(self,nums,k):\n",
    "        nums=sorted(list(map(int,nums)))\n",
    "        return str(nums[-k])\n",
    "        \n",
    "        \n",
    "        \n",
    "ob=Solution()\n",
    "ob.findkthmaximum([22,44,22,66,778],4)"
   ]
  },
  {
   "cell_type": "code",
   "execution_count": 28,
   "id": "0e361dfb-5247-40c3-af47-3d2e32cc8547",
   "metadata": {},
   "outputs": [
    {
     "data": {
      "text/plain": [
       "77"
      ]
     },
     "execution_count": 28,
     "metadata": {},
     "output_type": "execute_result"
    }
   ],
   "source": [
    "## Find the minimum and maximum element in an array without using the inbuilt function\n",
    "\n",
    "\n",
    "def getMax(nums):\n",
    "    max_num=nums[0]\n",
    "    for check in nums:\n",
    "        if check > max_num:\n",
    "            max_num=check\n",
    "    return max_num\n",
    "\n",
    "# def getMin(nums):\n",
    "#     min_num=nums[0]\n",
    "#     for check2 in min_num:\n",
    "#         if check2 < min_num:\n",
    "#             min_num=check\n",
    "#     return min_num\n",
    "\n",
    "getMax([22,55,77,33])\n",
    "# getMin([22,55,77,33])"
   ]
  },
  {
   "cell_type": "code",
   "execution_count": null,
   "id": "b2deaef4-1e89-4b13-bcfb-135233826ab8",
   "metadata": {},
   "outputs": [],
   "source": []
  },
  {
   "cell_type": "code",
   "execution_count": null,
   "id": "166d0203-9370-46fe-a8a1-1728660d69c7",
   "metadata": {},
   "outputs": [],
   "source": []
  },
  {
   "cell_type": "code",
   "execution_count": 3,
   "id": "673036a0-45d8-4055-823c-219925e18eb7",
   "metadata": {},
   "outputs": [
    {
     "data": {
      "text/plain": [
       "33"
      ]
     },
     "execution_count": 3,
     "metadata": {},
     "output_type": "execute_result"
    }
   ],
   "source": [
    "def min_check(x):\n",
    "    min_val=x[0]\n",
    "    for check in x:\n",
    "        if check < min_val:\n",
    "            min_val=check\n",
    "    return min_val\n",
    "min_check([44,33,77,99])"
   ]
  },
  {
   "cell_type": "code",
   "execution_count": 10,
   "id": "661bff84-924b-4066-8f05-3c7390388342",
   "metadata": {},
   "outputs": [
    {
     "name": "stdout",
     "output_type": "stream",
     "text": [
      "0,0,0,0,0,0,1,1,1,1,"
     ]
    }
   ],
   "source": [
    "## Sort an array without using sort function usiung quick sort algorithm fast nlogn time complexity\n",
    "\n",
    "class Solution:\n",
    "    def partition(self,arr,low,high):\n",
    "        i=(low-1)\n",
    "        pivot=arr[high]\n",
    "        for j in range(low,high):\n",
    "            if arr[j]<=pivot:\n",
    "                i=i+1\n",
    "                arr[j],arr[i]=arr[i],arr[j]\n",
    "        arr[i+1],arr[high]=arr[high],arr[i+1]\n",
    "        return (i+1)\n",
    "    \n",
    "    def quick_sort(self,arr,low,high):\n",
    "        if len(arr)==1:\n",
    "            return arr\n",
    "        if low < high:\n",
    "            pi=self.partition(arr,low,high)\n",
    "            self.quick_sort(arr,low,pi-1)\n",
    "            self.quick_sort(arr,pi+1,high)\n",
    "            \n",
    "arr=[0,1,1,0,0,0,1,0,0,1]\n",
    "ob=Solution()\n",
    "ob.quick_sort(arr,0,len(arr)-1)\n",
    "for i in range(len(arr)):\n",
    "    print(arr[i],end=\",\")"
   ]
  },
  {
   "cell_type": "code",
   "execution_count": 11,
   "id": "5756ea32-1c58-4b6f-9336-b35430b0e4d0",
   "metadata": {},
   "outputs": [
    {
     "data": {
      "text/plain": [
       "[-1, -4, -2, -2, 1, 3, 3, 1, 3, 5]"
      ]
     },
     "execution_count": 11,
     "metadata": {},
     "output_type": "execute_result"
    }
   ],
   "source": [
    "## Move all the negative elements to one side of the array\n",
    "\n",
    "class Solution:\n",
    "    def movenegatives(self,arr,n):\n",
    "        j=0\n",
    "        for i in range(0,n):\n",
    "            if arr[i]<0:\n",
    "                temp=arr[i]\n",
    "                arr[i]=arr[j]\n",
    "                arr[j]=temp\n",
    "                j=j+1\n",
    "        return arr\n",
    "    \n",
    "ob=Solution()\n",
    "arr=[-1,-4,-2,3,1,-2,3,1,3,5]\n",
    "ob.movenegatives(arr,len(arr))"
   ]
  },
  {
   "cell_type": "code",
   "execution_count": null,
   "id": "2aefbd41-eab6-4c7e-8fb7-ae3b97c98658",
   "metadata": {},
   "outputs": [],
   "source": []
  }
 ],
 "metadata": {
  "kernelspec": {
   "display_name": "Python 3 (ipykernel)",
   "language": "python",
   "name": "python3"
  },
  "language_info": {
   "codemirror_mode": {
    "name": "ipython",
    "version": 3
   },
   "file_extension": ".py",
   "mimetype": "text/x-python",
   "name": "python",
   "nbconvert_exporter": "python",
   "pygments_lexer": "ipython3",
   "version": "3.9.7"
  }
 },
 "nbformat": 4,
 "nbformat_minor": 5
}
