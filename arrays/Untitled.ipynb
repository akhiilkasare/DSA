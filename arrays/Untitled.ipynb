{
 "cells": [
  {
   "cell_type": "code",
   "execution_count": 9,
   "id": "a9bab2c1-5f91-4ddf-aa5f-ae4c0735a39e",
   "metadata": {},
   "outputs": [
    {
     "data": {
      "text/plain": [
       "[4, 3, 2, 1]"
      ]
     },
     "execution_count": 9,
     "metadata": {},
     "output_type": "execute_result"
    }
   ],
   "source": [
    "## Reverse an array without using inbuilt functions\n",
    "\n",
    "def Reverse(nums):\n",
    "    if len(nums)==1:\n",
    "        return nums\n",
    "    return Reverse(nums[1:]) + nums[0:1]\n",
    "nums=[1,2,3,4]\n",
    "Reverse(nums)"
   ]
  },
  {
   "cell_type": "code",
   "execution_count": 14,
   "id": "5207eb89-2769-4ce7-a1e6-0a386cc4da8b",
   "metadata": {},
   "outputs": [
    {
     "data": {
      "text/plain": [
       "44"
      ]
     },
     "execution_count": 14,
     "metadata": {},
     "output_type": "execute_result"
    }
   ],
   "source": [
    "## Find the kth maximum element in an array\n",
    "\n",
    "class Solution:\n",
    "    def findkthmaximum(self,nums,k):\n",
    "        n=len(nums)\n",
    "        nums.sort()\n",
    "        a=n-k+1\n",
    "        return nums[a-1]\n",
    "        \n",
    "ob=Solution()\n",
    "ob.findkthmaximum([22,44,22,66,778],3)"
   ]
  },
  {
   "cell_type": "code",
   "execution_count": 28,
   "id": "0e361dfb-5247-40c3-af47-3d2e32cc8547",
   "metadata": {},
   "outputs": [
    {
     "data": {
      "text/plain": [
       "77"
      ]
     },
     "execution_count": 28,
     "metadata": {},
     "output_type": "execute_result"
    }
   ],
   "source": [
    "## Find the minimum and maximum element in an array without using the inbuilt function\n",
    "\n",
    "\n",
    "def getMax(nums):\n",
    "    max_num=nums[0]\n",
    "    for check in nums:\n",
    "        if check > max_num:\n",
    "            max_num=check\n",
    "    return max_num\n",
    "\n",
    "# def getMin(nums):\n",
    "#     min_num=nums[0]\n",
    "#     for check2 in min_num:\n",
    "#         if check2 < min_num:\n",
    "#             min_num=check\n",
    "#     return min_num\n",
    "\n",
    "getMax([22,55,77,33])\n",
    "# getMin([22,55,77,33])"
   ]
  },
  {
   "cell_type": "code",
   "execution_count": null,
   "id": "b2deaef4-1e89-4b13-bcfb-135233826ab8",
   "metadata": {},
   "outputs": [],
   "source": []
  },
  {
   "cell_type": "code",
   "execution_count": null,
   "id": "166d0203-9370-46fe-a8a1-1728660d69c7",
   "metadata": {},
   "outputs": [],
   "source": []
  },
  {
   "cell_type": "code",
   "execution_count": 3,
   "id": "673036a0-45d8-4055-823c-219925e18eb7",
   "metadata": {},
   "outputs": [
    {
     "data": {
      "text/plain": [
       "33"
      ]
     },
     "execution_count": 3,
     "metadata": {},
     "output_type": "execute_result"
    }
   ],
   "source": [
    "def min_check(x):\n",
    "    min_val=x[0]\n",
    "    for check in x:\n",
    "        if check < min_val:\n",
    "            min_val=check\n",
    "    return min_val\n",
    "min_check([44,33,77,99])"
   ]
  },
  {
   "cell_type": "code",
   "execution_count": null,
   "id": "661bff84-924b-4066-8f05-3c7390388342",
   "metadata": {},
   "outputs": [],
   "source": []
  }
 ],
 "metadata": {
  "kernelspec": {
   "display_name": "Python 3 (ipykernel)",
   "language": "python",
   "name": "python3"
  },
  "language_info": {
   "codemirror_mode": {
    "name": "ipython",
    "version": 3
   },
   "file_extension": ".py",
   "mimetype": "text/x-python",
   "name": "python",
   "nbconvert_exporter": "python",
   "pygments_lexer": "ipython3",
   "version": "3.9.7"
  }
 },
 "nbformat": 4,
 "nbformat_minor": 5
}
