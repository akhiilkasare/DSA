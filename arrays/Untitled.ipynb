{
 "cells": [
  {
   "cell_type": "code",
   "execution_count": 9,
   "id": "a9bab2c1-5f91-4ddf-aa5f-ae4c0735a39e",
   "metadata": {},
   "outputs": [
    {
     "data": {
      "text/plain": [
       "[4, 3, 2, 1]"
      ]
     },
     "execution_count": 9,
     "metadata": {},
     "output_type": "execute_result"
    }
   ],
   "source": [
    "## Reverse an array without using inbuilt functions\n",
    "\n",
    "def Reverse(nums):\n",
    "    if len(nums)==1:\n",
    "        return nums\n",
    "    return Reverse(nums[1:]) + nums[0:1]\n",
    "nums=[1,2,3,4]\n",
    "Reverse(nums)"
   ]
  },
  {
   "cell_type": "code",
   "execution_count": 13,
   "id": "5207eb89-2769-4ce7-a1e6-0a386cc4da8b",
   "metadata": {},
   "outputs": [
    {
     "data": {
      "text/plain": [
       "'22'"
      ]
     },
     "execution_count": 13,
     "metadata": {},
     "output_type": "execute_result"
    }
   ],
   "source": [
    "## Find the kth maximum element in an array\n",
    "\n",
    "# class Solution:\n",
    "#     def findkthmaximum(self,nums,k):\n",
    "#         n=len(nums)\n",
    "#         nums.sort()\n",
    "#         a=n-k+1\n",
    "#         return nums[a-1]\n",
    "    \n",
    "class Solution:\n",
    "    def findkthmaximum(self,nums,k):\n",
    "        nums=sorted(list(map(int,nums)))\n",
    "        return str(nums[-k])\n",
    "        \n",
    "        \n",
    "        \n",
    "ob=Solution()\n",
    "ob.findkthmaximum([22,44,22,66,778],4)"
   ]
  },
  {
   "cell_type": "code",
   "execution_count": 28,
   "id": "0e361dfb-5247-40c3-af47-3d2e32cc8547",
   "metadata": {},
   "outputs": [
    {
     "data": {
      "text/plain": [
       "77"
      ]
     },
     "execution_count": 28,
     "metadata": {},
     "output_type": "execute_result"
    }
   ],
   "source": [
    "## Find the minimum and maximum element in an array without using the inbuilt function\n",
    "\n",
    "\n",
    "def getMax(nums):\n",
    "    max_num=nums[0]\n",
    "    for check in nums:\n",
    "        if check > max_num:\n",
    "            max_num=check\n",
    "    return max_num\n",
    "\n",
    "# def getMin(nums):\n",
    "#     min_num=nums[0]\n",
    "#     for check2 in min_num:\n",
    "#         if check2 < min_num:\n",
    "#             min_num=check\n",
    "#     return min_num\n",
    "\n",
    "getMax([22,55,77,33])\n",
    "# getMin([22,55,77,33])"
   ]
  },
  {
   "cell_type": "code",
   "execution_count": null,
   "id": "b2deaef4-1e89-4b13-bcfb-135233826ab8",
   "metadata": {},
   "outputs": [],
   "source": []
  },
  {
   "cell_type": "code",
   "execution_count": null,
   "id": "166d0203-9370-46fe-a8a1-1728660d69c7",
   "metadata": {},
   "outputs": [],
   "source": []
  },
  {
   "cell_type": "code",
   "execution_count": 3,
   "id": "673036a0-45d8-4055-823c-219925e18eb7",
   "metadata": {},
   "outputs": [
    {
     "data": {
      "text/plain": [
       "33"
      ]
     },
     "execution_count": 3,
     "metadata": {},
     "output_type": "execute_result"
    }
   ],
   "source": [
    "def min_check(x):\n",
    "    min_val=x[0]\n",
    "    for check in x:\n",
    "        if check < min_val:\n",
    "            min_val=check\n",
    "    return min_val\n",
    "min_check([44,33,77,99])"
   ]
  },
  {
   "cell_type": "code",
   "execution_count": 10,
   "id": "661bff84-924b-4066-8f05-3c7390388342",
   "metadata": {},
   "outputs": [
    {
     "name": "stdout",
     "output_type": "stream",
     "text": [
      "0,0,0,0,0,0,1,1,1,1,"
     ]
    }
   ],
   "source": [
    "## Sort an array without using sort function usiung quick sort algorithm fast nlogn time complexity\n",
    "\n",
    "class Solution:\n",
    "    def partition(self,arr,low,high):\n",
    "        i=(low-1)\n",
    "        pivot=arr[high]\n",
    "        for j in range(low,high):\n",
    "            if arr[j]<=pivot:\n",
    "                i=i+1\n",
    "                arr[j],arr[i]=arr[i],arr[j]\n",
    "        arr[i+1],arr[high]=arr[high],arr[i+1]\n",
    "        return (i+1)\n",
    "    \n",
    "    def quick_sort(self,arr,low,high):\n",
    "        if len(arr)==1:\n",
    "            return arr\n",
    "        if low < high:\n",
    "            pi=self.partition(arr,low,high)\n",
    "            self.quick_sort(arr,low,pi-1)\n",
    "            self.quick_sort(arr,pi+1,high)\n",
    "            \n",
    "arr=[0,1,1,0,0,0,1,0,0,1]\n",
    "ob=Solution()\n",
    "ob.quick_sort(arr,0,len(arr)-1)\n",
    "for i in range(len(arr)):\n",
    "    print(arr[i],end=\",\")"
   ]
  },
  {
   "cell_type": "code",
   "execution_count": 11,
   "id": "5756ea32-1c58-4b6f-9336-b35430b0e4d0",
   "metadata": {},
   "outputs": [
    {
     "data": {
      "text/plain": [
       "[-1, -4, -2, -2, 1, 3, 3, 1, 3, 5]"
      ]
     },
     "execution_count": 11,
     "metadata": {},
     "output_type": "execute_result"
    }
   ],
   "source": [
    "## Move all the negative elements to one side of the array\n",
    "\n",
    "class Solution:\n",
    "    def movenegatives(self,arr,n):\n",
    "        j=0\n",
    "        for i in range(0,n):\n",
    "            if arr[i]<0:\n",
    "                temp=arr[i]\n",
    "                arr[i]=arr[j]\n",
    "                arr[j]=temp\n",
    "                j=j+1\n",
    "        return arr\n",
    "    \n",
    "ob=Solution()\n",
    "arr=[-1,-4,-2,3,1,-2,3,1,3,5]\n",
    "ob.movenegatives(arr,len(arr))"
   ]
  },
  {
   "cell_type": "code",
   "execution_count": 14,
   "id": "2aefbd41-eab6-4c7e-8fb7-ae3b97c98658",
   "metadata": {},
   "outputs": [
    {
     "data": {
      "text/plain": [
       "[-1, -4, -2, -2, 1, 3, 3, 1, 3, 5]"
      ]
     },
     "execution_count": 14,
     "metadata": {},
     "output_type": "execute_result"
    }
   ],
   "source": [
    "def movenegatives(nums,n):\n",
    "    j=0\n",
    "    for i in range(0,n):\n",
    "        if arr[i]<0:\n",
    "            temp=arr[i]\n",
    "            arr[i]=arr[j]\n",
    "            arr[j]=temp\n",
    "            j=j+1\n",
    "    return arr\n",
    "arr=[-1,-4,-2,3,1,-2,3,1,3,5]\n",
    "movenegatives(arr,len(arr))"
   ]
  },
  {
   "cell_type": "code",
   "execution_count": 32,
   "id": "525f38f3-91e5-4599-a712-9e2f74554aa6",
   "metadata": {},
   "outputs": [
    {
     "name": "stdout",
     "output_type": "stream",
     "text": [
      "[7, 23, 4, 5]\n"
     ]
    }
   ],
   "source": [
    "## Cyclically rotate an array\n",
    "\n",
    "class Solution:\n",
    "    def rotate_array(self,arr,k):\n",
    "        k=k%len(arr)\n",
    "        \n",
    "        l,r=0,len(arr)-1       \n",
    "        while l < r:\n",
    "            arr[l],arr[r]=arr[r],arr[l]\n",
    "            l,r=l+1, r-1\n",
    "            \n",
    "        l, r = 0, k-1\n",
    "        while l < r:\n",
    "            arr[l], arr[r] = arr[r], arr[l]\n",
    "            l, r = l+1, r-1\n",
    "            \n",
    "        l, r = k, len(arr)-1\n",
    "        while l < r:\n",
    "            arr[l], arr[r] = arr[r], arr[l]\n",
    "            l, r = l+1, r-1\n",
    "            \n",
    "ob=Solution()\n",
    "arr=[23,4,5,7]\n",
    "ob.rotate_array(arr,5)\n",
    "print(arr)"
   ]
  },
  {
   "cell_type": "code",
   "execution_count": 11,
   "id": "46de8276-23b1-4e5c-92df-b29e5861754e",
   "metadata": {},
   "outputs": [
    {
     "data": {
      "text/plain": [
       "49"
      ]
     },
     "execution_count": 11,
     "metadata": {},
     "output_type": "execute_result"
    }
   ],
   "source": [
    "### Kadane's Algorithm / Maximum SubArray / Maximum contigous subarray\n",
    "\n",
    "class Solution:\n",
    "    def maxSubArray(self,arr):\n",
    "        \n",
    "        currSum=maxSum=arr[0]\n",
    "        \n",
    "        for nums in arr[1:]:\n",
    "            currSum = max(nums,currSum+nums)\n",
    "            maxSum = max(maxSum, currSum)\n",
    "        return maxSum\n",
    "    \n",
    "ob=Solution()\n",
    "arr = [2,3,4,5,15,20]\n",
    "\n",
    "ob.maxSubArray(arr)"
   ]
  },
  {
   "cell_type": "code",
   "execution_count": 5,
   "id": "3da8a37e-7f62-44fe-8373-0b2cb9d51c4a",
   "metadata": {},
   "outputs": [
    {
     "data": {
      "text/plain": [
       "77"
      ]
     },
     "execution_count": 5,
     "metadata": {},
     "output_type": "execute_result"
    }
   ],
   "source": [
    "## Find the maximum pair sum\n",
    "\n",
    "class Solution:\n",
    "    def pairSum(self,arr,n):\n",
    "        if arr[0]>arr[1]:\n",
    "            first=arr[0]\n",
    "            second=arr[1]\n",
    "        else:\n",
    "            first=arr[1]\n",
    "            second=arr[0]\n",
    "        \n",
    "        for i in range(2,n):\n",
    "            if arr[i] > first:\n",
    "                second=first\n",
    "                first=arr[i]\n",
    "            elif arr[i]>second and arr[i] != first:\n",
    "                second=arr[i]\n",
    "            \n",
    "        return (first+second)\n",
    "\n",
    "ob=Solution()\n",
    "arr=[11,22,33,44]\n",
    "n=len(arr)\n",
    "ob.pairSum(arr,n)"
   ]
  },
  {
   "cell_type": "code",
   "execution_count": 10,
   "id": "44113588-fc87-4812-812e-ee0c0ebaa51e",
   "metadata": {},
   "outputs": [
    {
     "data": {
      "text/plain": [
       "[2, 3, 4, 5, 6, 2, 6, 7, 8]"
      ]
     },
     "execution_count": 10,
     "metadata": {},
     "output_type": "execute_result"
    }
   ],
   "source": [
    "def partition(arr,low,high):\n",
    "    i=(low-1)\n",
    "    pivot=arr[high]\n",
    "    \n",
    "    for j in range(low,high):\n",
    "        if arr[j]<=pivot:\n",
    "            i=i+1\n",
    "            arr[j],arr[i]=arr[i],arr[j]\n",
    "    arr[i+1],arr[high]=arr[high],arr[i+1]\n",
    "    return (i+1)\n",
    "\n",
    "def quick_sort(arr,low,high):\n",
    "    if len(arr)==1:\n",
    "        return arr\n",
    "    if low < high:\n",
    "        pi=partition(arr,low,high)\n",
    "        quick_sort(arr,low,pi-11)\n",
    "        quick_sort(arr,pi+1,high)\n",
    "        \n",
    "arr=[2,3,4,8,5,6,7,2,6]\n",
    "n=len(arr)\n",
    "quick_sort(arr,0,n-1)\n",
    "arr"
   ]
  },
  {
   "cell_type": "code",
   "execution_count": 16,
   "id": "349e707a-c0bf-4c54-bd52-e0174599a7a4",
   "metadata": {},
   "outputs": [
    {
     "data": {
      "text/plain": [
       "3"
      ]
     },
     "execution_count": 16,
     "metadata": {},
     "output_type": "execute_result"
    }
   ],
   "source": [
    "## Find the duplicate in an arary of n+1 integers\n",
    "\n",
    "class Solution:\n",
    "    def findDuplicate(self,arr):\n",
    "        n=len(arr)\n",
    "        for i, num in enumerate(arr):\n",
    "            for j in range(i+1,n):\n",
    "                if arr[j]==num:\n",
    "                    return num\n",
    "\n",
    "ob=Solution()\n",
    "nums=[4,3,2,7,8,2,3,1]\n",
    "ob.findDuplicate(nums)"
   ]
  },
  {
   "cell_type": "code",
   "execution_count": 15,
   "id": "4c743c21-2831-466f-a004-7f26a5b018e9",
   "metadata": {},
   "outputs": [
    {
     "name": "stdout",
     "output_type": "stream",
     "text": [
      "[1, 2, 3]\n",
      "[1, 3, 2]\n",
      "[2, 1, 3]\n",
      "[2, 3, 1]\n",
      "[3, 2, 1]\n",
      "[3, 1, 2]\n"
     ]
    }
   ],
   "source": [
    "## Find the all the possible combination in a list\n",
    "\n",
    "\n",
    "def permute(arr,low=0):\n",
    "    if low+1 >= len(arr):\n",
    "        yield arr\n",
    "    else:\n",
    "        for p in permute(arr,low+1):\n",
    "            yield p\n",
    "        for i in range(low+1,len(arr)):\n",
    "            arr[low],arr[i]=arr[i],arr[low]\n",
    "            for p in permute(arr,low+1):\n",
    "                yield p\n",
    "            arr[low],arr[i]=arr[i],arr[low]\n",
    "        \n",
    "for p in permute([1,2,3]):\n",
    "    print(p)"
   ]
  },
  {
   "cell_type": "code",
   "execution_count": null,
   "id": "3a732180-1573-4715-b0b8-6b5bffae4fd9",
   "metadata": {},
   "outputs": [
    {
     "data": {
      "text/plain": [
       "[2, 3]"
      ]
     },
     "execution_count": 23,
     "metadata": {},
     "output_type": "execute_result"
    }
   ],
   "source": [
    "## Find the duplicates form an array (new approach)\n",
    "\n",
    "def findDuplicates(nums):\n",
    "    rs=[]\n",
    "    for num in nums:\n",
    "        # num=abs(num)\n",
    "        if nums[num-1]<0:\n",
    "            rs.append(num)\n",
    "        else:\n",
    "            nums[num-1]=-nums[num-1]\n",
    "    return rs\n",
    "\n",
    "findDuplicates([1,2,2,3,3,4])"
   ]
  },
  {
   "cell_type": "code",
   "execution_count": 38,
   "id": "b950d31e-5811-49f6-a6e9-c26464124299",
   "metadata": {},
   "outputs": [
    {
     "data": {
      "text/plain": [
       "[1, 2, 3, 4, 5]"
      ]
     },
     "execution_count": 38,
     "metadata": {},
     "output_type": "execute_result"
    }
   ],
   "source": [
    "## remove duplicates from the aarray\n",
    "\n",
    "def remove_duplicates(arr):\n",
    "    res=[]\n",
    "    for i in arr:\n",
    "        if i not in res:\n",
    "            res.append(i)\n",
    "    return res\n",
    "arr=[1,1,2,2,3,3,4,5]\n",
    "remove_duplicates(arr)"
   ]
  },
  {
   "cell_type": "code",
   "execution_count": null,
   "id": "e5259992-e1a2-4ef7-b2a3-ecf434be7c2f",
   "metadata": {},
   "outputs": [],
   "source": [
    "# Program to multiply two matrices using nested loops\n",
    "\n",
    "# 3x3 matrix\n",
    "X = [[12,7,3],\n",
    "    [4 ,5,6],\n",
    "    [7 ,8,9]]\n",
    "# 3x4 matrix\n",
    "Y = [[5,8,1,2],\n",
    "    [6,7,3,0],\n",
    "    [4,5,9,1]]\n",
    "# result is 3x4\n",
    "result = [[0,0,0,0],\n",
    "         [0,0,0,0],\n",
    "         [0,0,0,0]]\n",
    "\n",
    "# iterate through rows of X\n",
    "for i in range(len(X)):\n",
    "   # iterate through columns of Y\n",
    "   for j in range(len(Y[0])):\n",
    "       # iterate through rows of Y\n",
    "       for k in range(len(Y)):\n",
    "           result[i][j] += X[i][k] * Y[k][j]\n",
    "\n",
    "for r in result:\n",
    "   print(r)\n"
   ]
  }
 ],
 "metadata": {
  "kernelspec": {
   "display_name": "Python 3 (ipykernel)",
   "language": "python",
   "name": "python3"
  },
  "language_info": {
   "codemirror_mode": {
    "name": "ipython",
    "version": 3
   },
   "file_extension": ".py",
   "mimetype": "text/x-python",
   "name": "python",
   "nbconvert_exporter": "python",
   "pygments_lexer": "ipython3",
   "version": "3.9.7"
  }
 },
 "nbformat": 4,
 "nbformat_minor": 5
}
