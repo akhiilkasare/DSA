{
 "cells": [
  {
   "cell_type": "code",
   "execution_count": 1,
   "metadata": {},
   "outputs": [],
   "source": [
    "arr = [1,2,3,4,5]\n",
    "a = arr[:]"
   ]
  },
  {
   "cell_type": "code",
   "execution_count": 2,
   "metadata": {},
   "outputs": [
    {
     "data": {
      "text/plain": [
       "[1, 2, 3, 4, 5]"
      ]
     },
     "execution_count": 2,
     "metadata": {},
     "output_type": "execute_result"
    }
   ],
   "source": [
    "a"
   ]
  },
  {
   "cell_type": "code",
   "execution_count": 7,
   "metadata": {},
   "outputs": [
    {
     "name": "stdout",
     "output_type": "stream",
     "text": [
      "330\n",
      "330\n"
     ]
    }
   ],
   "source": [
    "### Maximum Subset subset sum no adjacent\n",
    "\n",
    "##Solution 1 : O(n) time | O(n) space\n",
    "\n",
    "def maxSubsetSumNoAdjacent(array):\n",
    "    '''Base case'''\n",
    "    if not len(array):\n",
    "        return \n",
    "    if len(array) == 1:\n",
    "        return array[0]\n",
    "\n",
    "    '''calculating the maxSum'''\n",
    "    maxSum = array[:]\n",
    "    maxSum[1] = max(array[0], array[1])\n",
    "\n",
    "    '''Iterating through all the elements of the array'''\n",
    "    for i in range(2,len(array)):\n",
    "        maxSum[i] = max(maxSum[i-1], maxSum[i-2]+array[i]) ## formula\n",
    "\n",
    "    return maxSum[-1]\n",
    "\n",
    "## Solution 2: O(n) time | O(1) space\n",
    "\n",
    "def maxSubsetSumNoAdjacent2(array):\n",
    "    '''Base case'''\n",
    "    if not len(array):\n",
    "        return \n",
    "    if len(array) == 1:\n",
    "        return array[0]\n",
    "\n",
    "    '''calculating the first and second and storing inside the variable'''\n",
    "    second = array[0]\n",
    "    first = max(array[0], array[1])\n",
    "\n",
    "    '''Iterating through all the elements of the array'''\n",
    "    for i in range(2, len(array)):\n",
    "        current = max(first, second + array[i]) ## formula \n",
    "        '''updating current'''\n",
    "        second = first\n",
    "        first = current\n",
    "    return first\n",
    "\n",
    "array = [75, 105, 120, 75, 90, 135]\n",
    "print(maxSubsetSumNoAdjacent(array))\n",
    "print(maxSubsetSumNoAdjacent2(array))"
   ]
  },
  {
   "cell_type": "code",
   "execution_count": 9,
   "metadata": {},
   "outputs": [
    {
     "name": "stdout",
     "output_type": "stream",
     "text": [
      "2\n"
     ]
    }
   ],
   "source": [
    "## Coin Change\n",
    "\n",
    "def coinChange(n, denoms):\n",
    "    ways = [0 for amount in range(n+1)]\n",
    "    ways[0] = 1\n",
    "\n",
    "    for denom in denoms:\n",
    "        for amount in range(1, n+1):\n",
    "            if denom <= amount:\n",
    "                ways[amount] += ways[amount - denom]\n",
    "    return ways[n]\n",
    "\n",
    "n=6\n",
    "denoms=[1,5]\n",
    "print(coinChange(n, denoms))"
   ]
  },
  {
   "cell_type": "code",
   "execution_count": 7,
   "metadata": {},
   "outputs": [
    {
     "name": "stdout",
     "output_type": "stream",
     "text": [
      "-1\n"
     ]
    }
   ],
   "source": [
    "## Minimum number of coins for change\n",
    "\n",
    "def minNumberOfCoinsForChange(n, denoms):\n",
    "    # Write your code here.\n",
    "    '''You have infinite number of coins'''\n",
    "    numOfCoins = [float(\"inf\") for amount in range(n+1)]\n",
    "    numOfCoins[0] = 0\n",
    "\n",
    "    for denom in denoms:\n",
    "        for amount in range(len(numOfCoins)):\n",
    "            if denom <= amount:\n",
    "                numOfCoins[amount] = min(numOfCoins[amount], 1+numOfCoins[amount -  denom])\n",
    "    return numOfCoins[n] if numOfCoins[n] != float('inf') else -1\n",
    "\n",
    "n = 7\n",
    "denoms = [2,4]\n",
    "print(minNumberOfCoinsForChange(n, denoms))"
   ]
  },
  {
   "cell_type": "code",
   "execution_count": 3,
   "metadata": {},
   "outputs": [
    {
     "name": "stdout",
     "output_type": "stream",
     "text": [
      "2\n"
     ]
    }
   ],
   "source": [
    "### Lenvenshtein Distance\n",
    "\n",
    "def lenvenshteinDistance(str1, str2):\n",
    "    edits = [[x for x in range(len(str1) + 1)] for y in range(len(str2) + 1)]\n",
    "\n",
    "    for i in range(1, len(str2) + 1):\n",
    "        edits[i][0] = edits[i-1][0] + 1\n",
    "    for i in range(1, len(str2) + 1):\n",
    "        for j in range(1, len(str1) + 1):\n",
    "            if str2[i-1] == str1[j-1]:\n",
    "                edits[i][j] = edits[i-1][j-1]\n",
    "            else:\n",
    "                edits[i][j] = 1 + min(edits[i-1][j-1], edits[i-1][j], edits[i][j-1])\n",
    "    return edits[-1][-1]\n",
    "\n",
    "str1=\"abc\"\n",
    "str2=\"yabd\"\n",
    "print(lenvenshteinDistance(str1, str2))"
   ]
  },
  {
   "cell_type": "code",
   "execution_count": 1,
   "metadata": {},
   "outputs": [
    {
     "name": "stdout",
     "output_type": "stream",
     "text": [
      "10\n"
     ]
    }
   ],
   "source": [
    "### Maximum number of ways to traverse a graph\n",
    "\n",
    "def numberOfways(width, height):\n",
    "    xDistanceToCorner = width - 1\n",
    "    yDistanceToCorner = height - 1\n",
    "\n",
    "    numerator = factorial(xDistanceToCorner + yDistanceToCorner)\n",
    "    denominator = factorial(xDistanceToCorner) * factorial(yDistanceToCorner)\n",
    "    return numerator//denominator\n",
    "\n",
    "def factorial(nums):\n",
    "    results = 1\n",
    "    for n in range(2, nums + 1):\n",
    "        results *= n\n",
    "    return results\n",
    "\n",
    "width=4\n",
    "height=3\n",
    "print(numberOfways(width, height))"
   ]
  },
  {
   "cell_type": "code",
   "execution_count": 7,
   "metadata": {},
   "outputs": [
    {
     "name": "stdout",
     "output_type": "stream",
     "text": [
      "['X', 'Y', 'Z', 'W']\n"
     ]
    }
   ],
   "source": [
    "## Longest Common Sub Sequence\n",
    "\n",
    "def longestCommonSubsequence(str1, str2):\n",
    "    lcs = [[[] for x in range(len(str1) + 1)] for y in range(len(str2) + 1)]\n",
    "\n",
    "    for i in range(1, len(str2) + 1):\n",
    "        for j in range(1, len(str1) + 1):\n",
    "            if str2[i-1] == str1[j-1]:\n",
    "                lcs[i][j] = lcs[i-1][j-1] + [str2[i-1]]\n",
    "            else:\n",
    "                lcs[i][j] = max(lcs[i-1][j], lcs[i][j-1], key=len)\n",
    "    return lcs[-1][-1]\n",
    "\n",
    "\n",
    "str1 = \"ZXVVYZW\"\n",
    "str2 = \"XKYKZPW\"\n",
    "\n",
    "print(longestCommonSubsequence(str1, str2))"
   ]
  },
  {
   "cell_type": "code",
   "execution_count": 3,
   "metadata": {},
   "outputs": [
    {
     "name": "stdout",
     "output_type": "stream",
     "text": [
      "48\n"
     ]
    }
   ],
   "source": [
    "## Water Area / Trapping Rain Water Problem\n",
    "\n",
    "## O(n) time | O(1) space\n",
    "\n",
    "def waterArea(heights):\n",
    "    maxes = [0 for x in heights]\n",
    "\n",
    "    '''We need to calculate the height from left and right of the pillar'''\n",
    "    leftMax = 0\n",
    "    for i in range(len(heights)):\n",
    "        height = heights[i] ## storing the current height\n",
    "        maxes[i] = leftMax  ## updating the leftMax\n",
    "        leftMax = max(leftMax, height)\n",
    "    \n",
    "    rightMax = 0\n",
    "    for i in reversed(range(len(heights))):\n",
    "        height = heights[i]\n",
    "        minHeight = min(rightMax, maxes[i])\n",
    "        if height < minHeight:\n",
    "            maxes[i] = minHeight - height\n",
    "        else:\n",
    "            maxes[i] = 0\n",
    "        rightMax = max(rightMax,height)\n",
    "    \n",
    "    return sum(maxes)\n",
    "\n",
    "heights = [0,8,0,0,5,0,0,10,0,0,1,1,0,3]\n",
    "print(waterArea(heights))\n"
   ]
  },
  {
   "cell_type": "code",
   "execution_count": null,
   "metadata": {},
   "outputs": [
    {
     "ename": "",
     "evalue": "",
     "output_type": "error",
     "traceback": [
      "\u001b[1;31mRunning cells with 'test1' requires ipykernel package.\n",
      "\u001b[1;31mRun the following command to install 'ipykernel' into the Python environment. \n",
      "\u001b[1;31mCommand: 'conda install -n test1 ipykernel --update-deps --force-reinstall'"
     ]
    }
   ],
   "source": [
    "def knapsackProblem(items, capacity):\n",
    "    knapsackValues = [[0 for x in range(0, capacity + 1 )] for y in range(0, len(items) + 1)]\n",
    "\n",
    "    for i in range(1, len(items) + 1):\n",
    "        currentWeight = items[i-1][1]\n",
    "        currentValue = items[i-1][0]\n",
    "        for c in range(0, capacity + 1):\n",
    "            if currentWeight > c:\n",
    "                knapsackValues[i][c] = knapsackValues[i-1][c]\n",
    "            else:\n",
    "                knapsackValues[i][c] = max(knapsackValues[i-1][c], knapsackValues[i-1][c-currentWeight] + currentValue)\n",
    "    return [knapsackValues[-1][-1], getKnapSackValue(knapsackValues,items)]\n",
    "\n",
    "def getKnapSackValue(knapsackValues,items):\n",
    "    sequence = []\n",
    "    i = len(knapsackValues) - 1\n",
    "    c = len(knapsackValues[0]) - 1\n",
    "\n",
    "    while i > 0:\n",
    "        if knapsackValues[i][c] == knapsackValues[i-1][c]:\n",
    "            i-=1\n",
    "        else:\n",
    "            sequence.append(i-1)\n",
    "            c-=items[i-1][1]\n",
    "            i-=1\n",
    "        if c==0:\n",
    "            break\n",
    "    return list(reversed(sequence))\n",
    "\n",
    "items = [[1,2],[4,3],[5,6],[6,7]]\n",
    "capacity = 10\n",
    "print(knapsackProblem(items, capacity))"
   ]
  },
  {
   "cell_type": "code",
   "execution_count": 6,
   "metadata": {},
   "outputs": [
    {
     "name": "stdout",
     "output_type": "stream",
     "text": [
      "1\n"
     ]
    }
   ],
   "source": [
    "### NUmber of longest increasing subsequence\n",
    "\n",
    "def longestIncreasingSubsequence(nums):\n",
    "    dp={}\n",
    "    lenLIS, res = 0,0\n",
    "\n",
    "    for i in range(len(nums) - 1, -1, -1):\n",
    "        maxLen, maxCnt = 1, 1\n",
    "        for j in range(i+1, len(nums)):\n",
    "            if nums[j] > nums[i]:\n",
    "                length, count = dp[j]\n",
    "                if length + 1 > maxLen:\n",
    "                    maxLen, maxCnt = length + 1, count\n",
    "                elif length + 1 == maxLen:\n",
    "                    maxCnt += count\n",
    "        \n",
    "        if maxLen > lenLIS:\n",
    "            lenLIS, res = maxLen, maxCnt\n",
    "        elif maxLen == lenLIS:\n",
    "            res += maxCnt\n",
    "        dp[i] = [maxLen, maxCnt]\n",
    "    return res\n",
    "\n",
    "nums = [0,1,0,3,2,3]\n",
    "print(longestIncreasingSubsequence(nums))"
   ]
  },
  {
   "cell_type": "code",
   "execution_count": 7,
   "metadata": {},
   "outputs": [],
   "source": [
    "def findNumberOfLIS(nums):\n",
    "    dp={}\n",
    "    lenLis, res = 0, 0\n",
    "\n",
    "    for i in range(len(nums)-1,-1,-1):\n",
    "        maxLen, maxCnt = 1, 1\n",
    "        for j in range(i+1, len(nums)):\n",
    "            if nums[j] > nums[i]:\n",
    "                lenght, count = dp[j]\n",
    "                if lenght + 1 > maxLen:\n",
    "                    maxLen, maxCnt = lenght + 1, count\n",
    "                elif lenght + 1 == maxLen:\n",
    "                    maxCnt += count\n",
    "        \n",
    "        if maxLen > lenLis:\n",
    "            lenLis, res = maxLen, maxCnt\n",
    "        elif maxLen == lenLis:\n",
    "            res += maxCnt\n",
    "        dp[i] = [maxLen, maxCnt]\n",
    "    return res"
   ]
  },
  {
   "cell_type": "code",
   "execution_count": 13,
   "metadata": {},
   "outputs": [
    {
     "name": "stdout",
     "output_type": "stream",
     "text": [
      "93\n"
     ]
    }
   ],
   "source": [
    "## Maximum profit for k transactions\n",
    "\n",
    "def maxProfit(prices, k):\n",
    "    if not len(prices):\n",
    "        return 0\n",
    "    profits = [[0 for d in prices] for t in range(k+1)]\n",
    "    for t in range(k+1):\n",
    "        maxThusFar = float(\"-inf\")\n",
    "        for d in range(1, len(prices)):\n",
    "            maxThusFar = max(maxThusFar, profits[t-1][d-1] - prices[d-1])\n",
    "            profits[t][d] = max(profits[t][d-1], maxThusFar + prices[d])\n",
    "    return profits[-1][-1]\n",
    "\n",
    "prices = [5,11,3,50,60,90]\n",
    "k=2\n",
    "print(maxProfit(prices, k))"
   ]
  },
  {
   "cell_type": "code",
   "execution_count": null,
   "metadata": {},
   "outputs": [],
   "source": []
  }
 ],
 "metadata": {
  "kernelspec": {
   "display_name": "Python 3",
   "language": "python",
   "name": "python3"
  },
  "language_info": {
   "codemirror_mode": {
    "name": "ipython",
    "version": 3
   },
   "file_extension": ".py",
   "mimetype": "text/x-python",
   "name": "python",
   "nbconvert_exporter": "python",
   "pygments_lexer": "ipython3",
   "version": "3.7.4"
  },
  "orig_nbformat": 4,
  "vscode": {
   "interpreter": {
    "hash": "8c2dc7f55a4afb133f9671f18548a683b80d7f864af89313bd9839ac682f147f"
   }
  }
 },
 "nbformat": 4,
 "nbformat_minor": 2
}
